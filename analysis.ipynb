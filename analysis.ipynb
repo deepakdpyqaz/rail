{
 "cells": [
  {
   "cell_type": "code",
   "execution_count": 1,
   "id": "310ea84a-fe8b-4913-86e3-ece34dc9749b",
   "metadata": {},
   "outputs": [],
   "source": [
    "import numpy as np\n",
    "import pandas as pd\n",
    "import matplotlib.pyplot as plt\n",
    "import seaborn as sns"
   ]
  },
  {
   "cell_type": "code",
   "execution_count": 2,
   "id": "117ea796-a5b7-411c-acef-70192a91f81a",
   "metadata": {},
   "outputs": [],
   "source": [
    "df = pd.read_csv(\"delay2.csv\")"
   ]
  },
  {
   "cell_type": "code",
   "execution_count": 3,
   "id": "fa75ca81-13e1-49f7-b392-9818ab872c4f",
   "metadata": {},
   "outputs": [
    {
     "data": {
      "text/html": [
       "<div>\n",
       "<style scoped>\n",
       "    .dataframe tbody tr th:only-of-type {\n",
       "        vertical-align: middle;\n",
       "    }\n",
       "\n",
       "    .dataframe tbody tr th {\n",
       "        vertical-align: top;\n",
       "    }\n",
       "\n",
       "    .dataframe thead th {\n",
       "        text-align: right;\n",
       "    }\n",
       "</style>\n",
       "<table border=\"1\" class=\"dataframe\">\n",
       "  <thead>\n",
       "    <tr style=\"text-align: right;\">\n",
       "      <th></th>\n",
       "      <th>station</th>\n",
       "      <th>week</th>\n",
       "      <th>month</th>\n",
       "      <th>month_3</th>\n",
       "      <th>month_6</th>\n",
       "      <th>year</th>\n",
       "      <th>train_number</th>\n",
       "    </tr>\n",
       "  </thead>\n",
       "  <tbody>\n",
       "    <tr>\n",
       "      <th>0</th>\n",
       "      <td>BHUSAVAL JN (BSL)</td>\n",
       "      <td>0</td>\n",
       "      <td>0</td>\n",
       "      <td>0</td>\n",
       "      <td>0</td>\n",
       "      <td>0</td>\n",
       "      <td>1135</td>\n",
       "    </tr>\n",
       "    <tr>\n",
       "      <th>1</th>\n",
       "      <td>JALGAON JN (JL)</td>\n",
       "      <td>0</td>\n",
       "      <td>0</td>\n",
       "      <td>0</td>\n",
       "      <td>10</td>\n",
       "      <td>9</td>\n",
       "      <td>1135</td>\n",
       "    </tr>\n",
       "    <tr>\n",
       "      <th>2</th>\n",
       "      <td>CHALISGAON JN (CSN)</td>\n",
       "      <td>0</td>\n",
       "      <td>0</td>\n",
       "      <td>0</td>\n",
       "      <td>30</td>\n",
       "      <td>29</td>\n",
       "      <td>1135</td>\n",
       "    </tr>\n",
       "    <tr>\n",
       "      <th>3</th>\n",
       "      <td>MANMAD JN (MMR)</td>\n",
       "      <td>0</td>\n",
       "      <td>0</td>\n",
       "      <td>0</td>\n",
       "      <td>22</td>\n",
       "      <td>24</td>\n",
       "      <td>1135</td>\n",
       "    </tr>\n",
       "    <tr>\n",
       "      <th>4</th>\n",
       "      <td>KOPARGAON (KPG)</td>\n",
       "      <td>0</td>\n",
       "      <td>0</td>\n",
       "      <td>0</td>\n",
       "      <td>18</td>\n",
       "      <td>18</td>\n",
       "      <td>1135</td>\n",
       "    </tr>\n",
       "  </tbody>\n",
       "</table>\n",
       "</div>"
      ],
      "text/plain": [
       "               station  week  month  month_3  month_6  year  train_number\n",
       "0    BHUSAVAL JN (BSL)     0      0        0        0     0          1135\n",
       "1      JALGAON JN (JL)     0      0        0       10     9          1135\n",
       "2  CHALISGAON JN (CSN)     0      0        0       30    29          1135\n",
       "3      MANMAD JN (MMR)     0      0        0       22    24          1135\n",
       "4      KOPARGAON (KPG)     0      0        0       18    18          1135"
      ]
     },
     "execution_count": 3,
     "metadata": {},
     "output_type": "execute_result"
    }
   ],
   "source": [
    "df.head()"
   ]
  },
  {
   "cell_type": "code",
   "execution_count": 4,
   "id": "a2a09486-bbe5-4ed6-9036-b01b7b73229c",
   "metadata": {},
   "outputs": [],
   "source": [
    "import re"
   ]
  },
  {
   "cell_type": "code",
   "execution_count": 5,
   "id": "8c121bcd-4a13-43d4-a6b6-d321ae012ec5",
   "metadata": {},
   "outputs": [],
   "source": [
    "exp = re.compile(\"\\((?P<code>[A-Za-z]*)\\)\")"
   ]
  },
  {
   "cell_type": "code",
   "execution_count": 6,
   "id": "ba22a650-86f9-442e-9967-86615b0f3138",
   "metadata": {},
   "outputs": [],
   "source": [
    "df[\"station_code\"] = df[\"station\"].apply(lambda x: exp.search(x).group(\"code\"))"
   ]
  },
  {
   "cell_type": "code",
   "execution_count": 7,
   "id": "1cd198bc-38f1-4290-881c-5bb6f8b69c70",
   "metadata": {},
   "outputs": [
    {
     "data": {
      "text/html": [
       "<div>\n",
       "<style scoped>\n",
       "    .dataframe tbody tr th:only-of-type {\n",
       "        vertical-align: middle;\n",
       "    }\n",
       "\n",
       "    .dataframe tbody tr th {\n",
       "        vertical-align: top;\n",
       "    }\n",
       "\n",
       "    .dataframe thead th {\n",
       "        text-align: right;\n",
       "    }\n",
       "</style>\n",
       "<table border=\"1\" class=\"dataframe\">\n",
       "  <thead>\n",
       "    <tr style=\"text-align: right;\">\n",
       "      <th></th>\n",
       "      <th>station</th>\n",
       "      <th>week</th>\n",
       "      <th>month</th>\n",
       "      <th>month_3</th>\n",
       "      <th>month_6</th>\n",
       "      <th>year</th>\n",
       "      <th>train_number</th>\n",
       "      <th>station_code</th>\n",
       "    </tr>\n",
       "  </thead>\n",
       "  <tbody>\n",
       "    <tr>\n",
       "      <th>0</th>\n",
       "      <td>BHUSAVAL JN (BSL)</td>\n",
       "      <td>0</td>\n",
       "      <td>0</td>\n",
       "      <td>0</td>\n",
       "      <td>0</td>\n",
       "      <td>0</td>\n",
       "      <td>1135</td>\n",
       "      <td>BSL</td>\n",
       "    </tr>\n",
       "    <tr>\n",
       "      <th>1</th>\n",
       "      <td>JALGAON JN (JL)</td>\n",
       "      <td>0</td>\n",
       "      <td>0</td>\n",
       "      <td>0</td>\n",
       "      <td>10</td>\n",
       "      <td>9</td>\n",
       "      <td>1135</td>\n",
       "      <td>JL</td>\n",
       "    </tr>\n",
       "    <tr>\n",
       "      <th>2</th>\n",
       "      <td>CHALISGAON JN (CSN)</td>\n",
       "      <td>0</td>\n",
       "      <td>0</td>\n",
       "      <td>0</td>\n",
       "      <td>30</td>\n",
       "      <td>29</td>\n",
       "      <td>1135</td>\n",
       "      <td>CSN</td>\n",
       "    </tr>\n",
       "    <tr>\n",
       "      <th>3</th>\n",
       "      <td>MANMAD JN (MMR)</td>\n",
       "      <td>0</td>\n",
       "      <td>0</td>\n",
       "      <td>0</td>\n",
       "      <td>22</td>\n",
       "      <td>24</td>\n",
       "      <td>1135</td>\n",
       "      <td>MMR</td>\n",
       "    </tr>\n",
       "    <tr>\n",
       "      <th>4</th>\n",
       "      <td>KOPARGAON (KPG)</td>\n",
       "      <td>0</td>\n",
       "      <td>0</td>\n",
       "      <td>0</td>\n",
       "      <td>18</td>\n",
       "      <td>18</td>\n",
       "      <td>1135</td>\n",
       "      <td>KPG</td>\n",
       "    </tr>\n",
       "  </tbody>\n",
       "</table>\n",
       "</div>"
      ],
      "text/plain": [
       "               station  week  month  month_3  month_6  year  train_number  \\\n",
       "0    BHUSAVAL JN (BSL)     0      0        0        0     0          1135   \n",
       "1      JALGAON JN (JL)     0      0        0       10     9          1135   \n",
       "2  CHALISGAON JN (CSN)     0      0        0       30    29          1135   \n",
       "3      MANMAD JN (MMR)     0      0        0       22    24          1135   \n",
       "4      KOPARGAON (KPG)     0      0        0       18    18          1135   \n",
       "\n",
       "  station_code  \n",
       "0          BSL  \n",
       "1           JL  \n",
       "2          CSN  \n",
       "3          MMR  \n",
       "4          KPG  "
      ]
     },
     "execution_count": 7,
     "metadata": {},
     "output_type": "execute_result"
    }
   ],
   "source": [
    "df.head()"
   ]
  },
  {
   "cell_type": "code",
   "execution_count": 8,
   "id": "47ab965b-40fb-4dcb-b5b9-73c087dab3bd",
   "metadata": {},
   "outputs": [],
   "source": [
    "train = pd.read_csv(\"webapp/data.csv\")"
   ]
  },
  {
   "cell_type": "code",
   "execution_count": 9,
   "id": "31921ec2-1a73-4681-8c8d-c43c2b0643d4",
   "metadata": {},
   "outputs": [],
   "source": [
    "accepted = set()\n",
    "for tn in train[\"number\"]:\n",
    "    try:\n",
    "        accepted.add(int(tn))\n",
    "    except:\n",
    "        pass"
   ]
  },
  {
   "cell_type": "code",
   "execution_count": 10,
   "id": "54799ef2-b0a3-440b-8498-69088a264efd",
   "metadata": {},
   "outputs": [
    {
     "data": {
      "text/plain": [
       "4384"
      ]
     },
     "execution_count": 10,
     "metadata": {},
     "output_type": "execute_result"
    }
   ],
   "source": [
    "len(accepted)"
   ]
  },
  {
   "cell_type": "code",
   "execution_count": 11,
   "id": "9157791b-dcfd-46f7-9609-d5a0a44ba292",
   "metadata": {},
   "outputs": [],
   "source": [
    "matched = set()\n",
    "for tn in df[\"train_number\"]:\n",
    "    if tn in accepted:\n",
    "        matched.add(tn)"
   ]
  },
  {
   "cell_type": "code",
   "execution_count": 12,
   "id": "8c062746-0dee-4168-abe1-b42f6ca42d53",
   "metadata": {},
   "outputs": [
    {
     "data": {
      "text/plain": [
       "1284"
      ]
     },
     "execution_count": 12,
     "metadata": {},
     "output_type": "execute_result"
    }
   ],
   "source": [
    "len(matched)"
   ]
  },
  {
   "cell_type": "code",
   "execution_count": 13,
   "id": "67479648-3afe-452a-be12-370cacfe31e5",
   "metadata": {},
   "outputs": [],
   "source": [
    "data = df[df[\"train_number\"].isin(matched)].copy()"
   ]
  },
  {
   "cell_type": "code",
   "execution_count": 14,
   "id": "474ee45a-ca32-4037-8117-afef5b2bbf57",
   "metadata": {},
   "outputs": [
    {
     "data": {
      "text/plain": [
       "(27529, 8)"
      ]
     },
     "execution_count": 14,
     "metadata": {},
     "output_type": "execute_result"
    }
   ],
   "source": [
    "data.shape"
   ]
  },
  {
   "cell_type": "code",
   "execution_count": 15,
   "id": "cb75eee0-9304-405a-83d7-858c4d148ede",
   "metadata": {},
   "outputs": [
    {
     "data": {
      "text/plain": [
       "1284"
      ]
     },
     "execution_count": 15,
     "metadata": {},
     "output_type": "execute_result"
    }
   ],
   "source": [
    "len(np.unique(data[\"train_number\"]))"
   ]
  },
  {
   "cell_type": "code",
   "execution_count": 16,
   "id": "2cba7c19-e27e-45c0-b581-d5fcdd6d49e4",
   "metadata": {},
   "outputs": [],
   "source": [
    "data.to_csv(\"final_delay2.csv\", index=False)"
   ]
  },
  {
   "cell_type": "code",
   "execution_count": 17,
   "id": "2c19cd1c-3aa0-4135-9965-43deef0cae70",
   "metadata": {},
   "outputs": [],
   "source": [
    "matched_str = set(map(str, matched))"
   ]
  },
  {
   "cell_type": "code",
   "execution_count": 18,
   "id": "05fd3625-0611-4ed4-b090-d08b2baf3e58",
   "metadata": {},
   "outputs": [],
   "source": [
    "tr_data = train[train[\"number\"].isin(matched_str)]"
   ]
  },
  {
   "cell_type": "code",
   "execution_count": 19,
   "id": "c26e43a7-a93c-4484-aba0-ca90ba5abbda",
   "metadata": {},
   "outputs": [
    {
     "data": {
      "text/plain": [
       "(1269, 20)"
      ]
     },
     "execution_count": 19,
     "metadata": {},
     "output_type": "execute_result"
    }
   ],
   "source": [
    "tr_data.shape"
   ]
  },
  {
   "cell_type": "code",
   "execution_count": 20,
   "id": "b28c9f24-ee2c-4cd5-aba4-1cf162fd56a8",
   "metadata": {},
   "outputs": [
    {
     "data": {
      "text/plain": [
       "1284"
      ]
     },
     "execution_count": 20,
     "metadata": {},
     "output_type": "execute_result"
    }
   ],
   "source": [
    "len(matched_str)"
   ]
  },
  {
   "cell_type": "code",
   "execution_count": 21,
   "id": "2d8748f3-926d-48d2-ad1b-da0f4f650073",
   "metadata": {},
   "outputs": [
    {
     "data": {
      "text/plain": [
       "{'4604',\n",
       " '6009',\n",
       " '6010',\n",
       " '6535',\n",
       " '6536',\n",
       " '6617',\n",
       " '6618',\n",
       " '9051',\n",
       " '9621',\n",
       " '9622',\n",
       " '9715',\n",
       " '9721',\n",
       " '9722',\n",
       " '9723',\n",
       " '9724'}"
      ]
     },
     "execution_count": 21,
     "metadata": {},
     "output_type": "execute_result"
    }
   ],
   "source": [
    "matched_str.difference(set(np.unique(tr_data[\"number\"])))"
   ]
  },
  {
   "cell_type": "code",
   "execution_count": 22,
   "id": "aecc6e3f-d3f1-4f39-8e45-83ae5e99280c",
   "metadata": {},
   "outputs": [],
   "source": [
    "tr_data.to_csv(\"tr_data2.csv\", index=False)"
   ]
  },
  {
   "cell_type": "code",
   "execution_count": 23,
   "id": "e5557bb6-4922-4f9b-9d1d-02d8110983f5",
   "metadata": {},
   "outputs": [],
   "source": [
    "new_tr_data = pd.read_csv(\"tr_data2.csv\")"
   ]
  },
  {
   "cell_type": "code",
   "execution_count": 24,
   "id": "8212746a-5762-4f37-90b7-9aef4872a11f",
   "metadata": {},
   "outputs": [
    {
     "data": {
      "text/plain": [
       "third_ac               int64\n",
       "arrival               object\n",
       "from_station_code     object\n",
       "name                  object\n",
       "zone                  object\n",
       "chair_car              int64\n",
       "first_class            int64\n",
       "sleeper                int64\n",
       "from_station_name     object\n",
       "number                 int64\n",
       "departure             object\n",
       "return_train          object\n",
       "to_station_code       object\n",
       "second_ac              int64\n",
       "classes              float64\n",
       "to_station_name       object\n",
       "type                  object\n",
       "first_ac               int64\n",
       "distance             float64\n",
       "duration             float64\n",
       "dtype: object"
      ]
     },
     "execution_count": 24,
     "metadata": {},
     "output_type": "execute_result"
    }
   ],
   "source": [
    "new_tr_data.dtypes"
   ]
  },
  {
   "cell_type": "code",
   "execution_count": 25,
   "id": "a3ce1344-18cb-4d48-a8d5-0e552b51918b",
   "metadata": {},
   "outputs": [],
   "source": [
    "new_delay = pd.read_csv(\"final_delay2.csv\")"
   ]
  },
  {
   "cell_type": "code",
   "execution_count": 26,
   "id": "3a5df393-4a66-474c-9415-26155282c91b",
   "metadata": {},
   "outputs": [
    {
     "data": {
      "text/plain": [
       "station         object\n",
       "week             int64\n",
       "month            int64\n",
       "month_3          int64\n",
       "month_6          int64\n",
       "year             int64\n",
       "train_number     int64\n",
       "station_code    object\n",
       "dtype: object"
      ]
     },
     "execution_count": 26,
     "metadata": {},
     "output_type": "execute_result"
    }
   ],
   "source": [
    "new_delay.dtypes"
   ]
  },
  {
   "cell_type": "code",
   "execution_count": 27,
   "id": "1030bfbd-4ba5-4424-b3c6-a31b07199b30",
   "metadata": {},
   "outputs": [],
   "source": [
    "from sklearn.cluster import KMeans"
   ]
  },
  {
   "cell_type": "code",
   "execution_count": 28,
   "id": "73b2618d-2644-41b9-a72e-ce5edce4236f",
   "metadata": {},
   "outputs": [],
   "source": [
    "from sklearn.model_selection import GridSearchCV"
   ]
  },
  {
   "cell_type": "code",
   "execution_count": 45,
   "id": "8fc2bfba-432e-45e6-b913-16ae9b77e4f9",
   "metadata": {},
   "outputs": [],
   "source": [
    "df2 = (\n",
    "    new_delay[[\"station_code\", \"week\", \"month\", \"month_3\", \"month_6\", \"year\"]]\n",
    "    .groupby(\"station_code\")\n",
    "    .mean()\n",
    ")"
   ]
  },
  {
   "cell_type": "code",
   "execution_count": 46,
   "id": "420eb129-0e67-451e-abc0-7a1e81b42582",
   "metadata": {},
   "outputs": [
    {
     "data": {
      "text/html": [
       "<div>\n",
       "<style scoped>\n",
       "    .dataframe tbody tr th:only-of-type {\n",
       "        vertical-align: middle;\n",
       "    }\n",
       "\n",
       "    .dataframe tbody tr th {\n",
       "        vertical-align: top;\n",
       "    }\n",
       "\n",
       "    .dataframe thead th {\n",
       "        text-align: right;\n",
       "    }\n",
       "</style>\n",
       "<table border=\"1\" class=\"dataframe\">\n",
       "  <thead>\n",
       "    <tr style=\"text-align: right;\">\n",
       "      <th></th>\n",
       "      <th>week</th>\n",
       "      <th>month</th>\n",
       "      <th>month_3</th>\n",
       "      <th>month_6</th>\n",
       "      <th>year</th>\n",
       "    </tr>\n",
       "    <tr>\n",
       "      <th>station_code</th>\n",
       "      <th></th>\n",
       "      <th></th>\n",
       "      <th></th>\n",
       "      <th></th>\n",
       "      <th></th>\n",
       "    </tr>\n",
       "  </thead>\n",
       "  <tbody>\n",
       "    <tr>\n",
       "      <th>AAL</th>\n",
       "      <td>83.7</td>\n",
       "      <td>90.2</td>\n",
       "      <td>122.100000</td>\n",
       "      <td>126.3</td>\n",
       "      <td>112.100000</td>\n",
       "    </tr>\n",
       "    <tr>\n",
       "      <th>AAM</th>\n",
       "      <td>9.0</td>\n",
       "      <td>15.0</td>\n",
       "      <td>14.000000</td>\n",
       "      <td>13.0</td>\n",
       "      <td>12.000000</td>\n",
       "    </tr>\n",
       "    <tr>\n",
       "      <th>AAR</th>\n",
       "      <td>17.0</td>\n",
       "      <td>23.0</td>\n",
       "      <td>25.666667</td>\n",
       "      <td>35.0</td>\n",
       "      <td>36.333333</td>\n",
       "    </tr>\n",
       "    <tr>\n",
       "      <th>AB</th>\n",
       "      <td>13.5</td>\n",
       "      <td>15.2</td>\n",
       "      <td>18.600000</td>\n",
       "      <td>18.5</td>\n",
       "      <td>18.500000</td>\n",
       "    </tr>\n",
       "    <tr>\n",
       "      <th>ABD</th>\n",
       "      <td>75.0</td>\n",
       "      <td>38.0</td>\n",
       "      <td>29.000000</td>\n",
       "      <td>30.0</td>\n",
       "      <td>36.000000</td>\n",
       "    </tr>\n",
       "  </tbody>\n",
       "</table>\n",
       "</div>"
      ],
      "text/plain": [
       "              week  month     month_3  month_6        year\n",
       "station_code                                              \n",
       "AAL           83.7   90.2  122.100000    126.3  112.100000\n",
       "AAM            9.0   15.0   14.000000     13.0   12.000000\n",
       "AAR           17.0   23.0   25.666667     35.0   36.333333\n",
       "AB            13.5   15.2   18.600000     18.5   18.500000\n",
       "ABD           75.0   38.0   29.000000     30.0   36.000000"
      ]
     },
     "execution_count": 46,
     "metadata": {},
     "output_type": "execute_result"
    }
   ],
   "source": [
    "df2.head()"
   ]
  },
  {
   "cell_type": "code",
   "execution_count": 47,
   "id": "c264b007-a490-4493-89c3-c6d74108394a",
   "metadata": {},
   "outputs": [],
   "source": [
    "X = df2[[\"month\", \"month_3\", \"month_6\", \"year\"]]"
   ]
  },
  {
   "cell_type": "code",
   "execution_count": 48,
   "id": "addced58-ec7a-4eed-bf13-9720d4d6fcc5",
   "metadata": {},
   "outputs": [
    {
     "data": {
      "text/html": [
       "<div>\n",
       "<style scoped>\n",
       "    .dataframe tbody tr th:only-of-type {\n",
       "        vertical-align: middle;\n",
       "    }\n",
       "\n",
       "    .dataframe tbody tr th {\n",
       "        vertical-align: top;\n",
       "    }\n",
       "\n",
       "    .dataframe thead th {\n",
       "        text-align: right;\n",
       "    }\n",
       "</style>\n",
       "<table border=\"1\" class=\"dataframe\">\n",
       "  <thead>\n",
       "    <tr style=\"text-align: right;\">\n",
       "      <th></th>\n",
       "      <th>month</th>\n",
       "      <th>month_3</th>\n",
       "      <th>month_6</th>\n",
       "      <th>year</th>\n",
       "    </tr>\n",
       "  </thead>\n",
       "  <tbody>\n",
       "    <tr>\n",
       "      <th>count</th>\n",
       "      <td>2352.000000</td>\n",
       "      <td>2352.000000</td>\n",
       "      <td>2352.000000</td>\n",
       "      <td>2352.000000</td>\n",
       "    </tr>\n",
       "    <tr>\n",
       "      <th>mean</th>\n",
       "      <td>42.781646</td>\n",
       "      <td>47.433958</td>\n",
       "      <td>47.526760</td>\n",
       "      <td>42.636215</td>\n",
       "    </tr>\n",
       "    <tr>\n",
       "      <th>std</th>\n",
       "      <td>30.359772</td>\n",
       "      <td>32.408095</td>\n",
       "      <td>32.739149</td>\n",
       "      <td>28.418190</td>\n",
       "    </tr>\n",
       "    <tr>\n",
       "      <th>min</th>\n",
       "      <td>0.000000</td>\n",
       "      <td>0.000000</td>\n",
       "      <td>0.000000</td>\n",
       "      <td>0.000000</td>\n",
       "    </tr>\n",
       "    <tr>\n",
       "      <th>25%</th>\n",
       "      <td>19.746462</td>\n",
       "      <td>22.500000</td>\n",
       "      <td>22.854396</td>\n",
       "      <td>21.000000</td>\n",
       "    </tr>\n",
       "    <tr>\n",
       "      <th>50%</th>\n",
       "      <td>36.591667</td>\n",
       "      <td>40.708333</td>\n",
       "      <td>40.961538</td>\n",
       "      <td>36.500000</td>\n",
       "    </tr>\n",
       "    <tr>\n",
       "      <th>75%</th>\n",
       "      <td>57.875000</td>\n",
       "      <td>65.000000</td>\n",
       "      <td>63.882653</td>\n",
       "      <td>57.250000</td>\n",
       "    </tr>\n",
       "    <tr>\n",
       "      <th>max</th>\n",
       "      <td>248.000000</td>\n",
       "      <td>242.500000</td>\n",
       "      <td>238.000000</td>\n",
       "      <td>195.750000</td>\n",
       "    </tr>\n",
       "  </tbody>\n",
       "</table>\n",
       "</div>"
      ],
      "text/plain": [
       "             month      month_3      month_6         year\n",
       "count  2352.000000  2352.000000  2352.000000  2352.000000\n",
       "mean     42.781646    47.433958    47.526760    42.636215\n",
       "std      30.359772    32.408095    32.739149    28.418190\n",
       "min       0.000000     0.000000     0.000000     0.000000\n",
       "25%      19.746462    22.500000    22.854396    21.000000\n",
       "50%      36.591667    40.708333    40.961538    36.500000\n",
       "75%      57.875000    65.000000    63.882653    57.250000\n",
       "max     248.000000   242.500000   238.000000   195.750000"
      ]
     },
     "execution_count": 48,
     "metadata": {},
     "output_type": "execute_result"
    }
   ],
   "source": [
    "X.describe()"
   ]
  },
  {
   "cell_type": "code",
   "execution_count": 49,
   "id": "fb54703c-1431-48b5-9c4e-284174f91b7e",
   "metadata": {},
   "outputs": [],
   "source": [
    "inertia_values = []\n",
    "n_clusters = 23\n",
    "for i in range(3, n_clusters + 1, 2):\n",
    "    km = KMeans(n_clusters=i, n_init=\"auto\", algorithm=\"lloyd\")\n",
    "    km.fit_predict(X)\n",
    "    inertia_values.append(km.inertia_)"
   ]
  },
  {
   "cell_type": "code",
   "execution_count": 50,
   "id": "00d509ef-c0ac-4a06-b609-3b73eeb2be28",
   "metadata": {},
   "outputs": [
    {
     "data": {
      "image/png": "[encoded data removed]",
      "text/plain": [
       "<Figure size 800x600 with 1 Axes>"
      ]
     },
     "metadata": {},
     "output_type": "display_data"
    }
   ],
   "source": [
    "fig, ax = plt.subplots(figsize=(8, 6))\n",
    "plt.plot(range(3, n_clusters + 1, 2), inertia_values, color=\"red\")\n",
    "plt.xlabel(\"No. of Clusters\", fontsize=15)\n",
    "plt.ylabel(\"SSE / Inertia\", fontsize=15)\n",
    "plt.title(\"SSE / Inertia vs No. Of Clusters\", fontsize=15)\n",
    "plt.grid()\n",
    "plt.show()"
   ]
  },
  {
   "cell_type": "code",
   "execution_count": 51,
   "id": "2474d509-4604-4b57-83d8-0930010e0a81",
   "metadata": {},
   "outputs": [],
   "source": [
    "n_clusters = 11"
   ]
  },
  {
   "cell_type": "code",
   "execution_count": 52,
   "id": "342b5e7b-dedb-4ee8-b962-8ca6011aa84e",
   "metadata": {},
   "outputs": [],
   "source": [
    "km = KMeans(n_clusters=n_clusters, n_init=\"auto\", algorithm=\"lloyd\")"
   ]
  },
  {
   "cell_type": "code",
   "execution_count": 53,
   "id": "fb2f98eb-baa4-4425-b47e-795d8255963e",
   "metadata": {},
   "outputs": [
    {
     "data": {
      "text/plain": [
       "array([9, 3, 1, ..., 8, 2, 3])"
      ]
     },
     "execution_count": 53,
     "metadata": {},
     "output_type": "execute_result"
    }
   ],
   "source": [
    "km.fit_predict(X)"
   ]
  },
  {
   "cell_type": "code",
   "execution_count": 54,
   "id": "4485bdd5-4815-454f-a71f-3e4bbf3073ae",
   "metadata": {},
   "outputs": [],
   "source": [
    "labels = km.labels_"
   ]
  },
  {
   "cell_type": "code",
   "execution_count": 55,
   "id": "0cbc6949-ebc5-4851-8bc2-c7d610ba210a",
   "metadata": {},
   "outputs": [
    {
     "data": {
      "text/plain": [
       "(2352, 2352)"
      ]
     },
     "execution_count": 55,
     "metadata": {},
     "output_type": "execute_result"
    }
   ],
   "source": [
    "len(labels), len(X)"
   ]
  },
  {
   "cell_type": "code",
   "execution_count": 56,
   "id": "e17fa2a7-794e-4c47-b2a2-95ccc4806a66",
   "metadata": {},
   "outputs": [],
   "source": [
    "X[\"delay_level\"] = labels"
   ]
  },
  {
   "cell_type": "code",
   "execution_count": 57,
   "id": "3795a0fe-77aa-4bb3-a308-cc90f4a5e22b",
   "metadata": {},
   "outputs": [
    {
     "data": {
      "text/html": [
       "<div>\n",
       "<style scoped>\n",
       "    .dataframe tbody tr th:only-of-type {\n",
       "        vertical-align: middle;\n",
       "    }\n",
       "\n",
       "    .dataframe tbody tr th {\n",
       "        vertical-align: top;\n",
       "    }\n",
       "\n",
       "    .dataframe thead th {\n",
       "        text-align: right;\n",
       "    }\n",
       "</style>\n",
       "<table border=\"1\" class=\"dataframe\">\n",
       "  <thead>\n",
       "    <tr style=\"text-align: right;\">\n",
       "      <th></th>\n",
       "      <th>month</th>\n",
       "      <th>month_3</th>\n",
       "      <th>month_6</th>\n",
       "      <th>year</th>\n",
       "      <th>delay_level</th>\n",
       "    </tr>\n",
       "    <tr>\n",
       "      <th>station_code</th>\n",
       "      <th></th>\n",
       "      <th></th>\n",
       "      <th></th>\n",
       "      <th></th>\n",
       "      <th></th>\n",
       "    </tr>\n",
       "  </thead>\n",
       "  <tbody>\n",
       "    <tr>\n",
       "      <th>AAL</th>\n",
       "      <td>90.2</td>\n",
       "      <td>122.100000</td>\n",
       "      <td>126.3</td>\n",
       "      <td>112.100000</td>\n",
       "      <td>9</td>\n",
       "    </tr>\n",
       "    <tr>\n",
       "      <th>AAM</th>\n",
       "      <td>15.0</td>\n",
       "      <td>14.000000</td>\n",
       "      <td>13.0</td>\n",
       "      <td>12.000000</td>\n",
       "      <td>3</td>\n",
       "    </tr>\n",
       "    <tr>\n",
       "      <th>AAR</th>\n",
       "      <td>23.0</td>\n",
       "      <td>25.666667</td>\n",
       "      <td>35.0</td>\n",
       "      <td>36.333333</td>\n",
       "      <td>1</td>\n",
       "    </tr>\n",
       "    <tr>\n",
       "      <th>AB</th>\n",
       "      <td>15.2</td>\n",
       "      <td>18.600000</td>\n",
       "      <td>18.5</td>\n",
       "      <td>18.500000</td>\n",
       "      <td>3</td>\n",
       "    </tr>\n",
       "    <tr>\n",
       "      <th>ABD</th>\n",
       "      <td>38.0</td>\n",
       "      <td>29.000000</td>\n",
       "      <td>30.0</td>\n",
       "      <td>36.000000</td>\n",
       "      <td>1</td>\n",
       "    </tr>\n",
       "  </tbody>\n",
       "</table>\n",
       "</div>"
      ],
      "text/plain": [
       "              month     month_3  month_6        year  delay_level\n",
       "station_code                                                     \n",
       "AAL            90.2  122.100000    126.3  112.100000            9\n",
       "AAM            15.0   14.000000     13.0   12.000000            3\n",
       "AAR            23.0   25.666667     35.0   36.333333            1\n",
       "AB             15.2   18.600000     18.5   18.500000            3\n",
       "ABD            38.0   29.000000     30.0   36.000000            1"
      ]
     },
     "execution_count": 57,
     "metadata": {},
     "output_type": "execute_result"
    }
   ],
   "source": [
    "X.head()"
   ]
  },
  {
   "cell_type": "code",
   "execution_count": 58,
   "id": "188dfa7b-d2e2-4352-bfd4-7bc7ed8e493c",
   "metadata": {},
   "outputs": [
    {
     "data": {
      "image/png": "[encoded data removed]",
      "text/plain": [
       "<Figure size 640x480 with 1 Axes>"
      ]
     },
     "metadata": {},
     "output_type": "display_data"
    }
   ],
   "source": [
    "# Getting unique labels\n",
    "\n",
    "u_labels = np.unique(labels)\n",
    "\n",
    "# plotting the results:\n",
    "\n",
    "for i in u_labels:\n",
    "    plt.scatter(\n",
    "        X[X[\"delay_level\"] == i][\"month\"], X[X[\"delay_level\"] == i][\"year\"], label=i\n",
    "    )\n",
    "plt.legend()\n",
    "plt.show()"
   ]
  },
  {
   "cell_type": "code",
   "execution_count": 59,
   "id": "7f749d31-6558-4043-b41f-8884a835efe8",
   "metadata": {},
   "outputs": [],
   "source": [
    "import joblib"
   ]
  },
  {
   "cell_type": "code",
   "execution_count": 60,
   "id": "ca8a67fa-abfd-477a-8cf3-f602c50d3b6d",
   "metadata": {},
   "outputs": [
    {
     "data": {
      "text/plain": [
       "['km_s2.sav']"
      ]
     },
     "execution_count": 60,
     "metadata": {},
     "output_type": "execute_result"
    }
   ],
   "source": [
    "joblib.dump(km, \"km_s2.sav\")"
   ]
  },
  {
   "cell_type": "code",
   "execution_count": 61,
   "id": "224228e6-454f-4a47-b0be-ae3267e66571",
   "metadata": {},
   "outputs": [],
   "source": [
    "km = joblib.load(\"km2.sav\")"
   ]
  },
  {
   "cell_type": "code",
   "execution_count": 62,
   "id": "23125abf-41ee-4771-9ba3-76d992bec926",
   "metadata": {},
   "outputs": [],
   "source": [
    "km_s = joblib.load(\"km_s2.sav\")"
   ]
  },
  {
   "cell_type": "code",
   "execution_count": 63,
   "id": "84e97179-169b-4ec2-81fd-565c12c3b723",
   "metadata": {},
   "outputs": [],
   "source": [
    "delay = pd.read_csv(\"final_delay2.csv\")"
   ]
  },
  {
   "cell_type": "code",
   "execution_count": 64,
   "id": "59420f3e-27b2-4159-8b37-4f99078d3722",
   "metadata": {},
   "outputs": [],
   "source": [
    "train = pd.read_csv(\"tr_data2.csv\")"
   ]
  },
  {
   "cell_type": "code",
   "execution_count": 65,
   "id": "82ea447a-d717-416d-893a-300bea88b354",
   "metadata": {},
   "outputs": [
    {
     "data": {
      "text/plain": [
       "(27529, 8)"
      ]
     },
     "execution_count": 65,
     "metadata": {},
     "output_type": "execute_result"
    }
   ],
   "source": [
    "delay.shape"
   ]
  },
  {
   "cell_type": "code",
   "execution_count": 66,
   "id": "7d0dd4d9-4c5c-4c6e-8900-02ca96b362f2",
   "metadata": {},
   "outputs": [
    {
     "data": {
      "text/html": [
       "<div>\n",
       "<style scoped>\n",
       "    .dataframe tbody tr th:only-of-type {\n",
       "        vertical-align: middle;\n",
       "    }\n",
       "\n",
       "    .dataframe tbody tr th {\n",
       "        vertical-align: top;\n",
       "    }\n",
       "\n",
       "    .dataframe thead th {\n",
       "        text-align: right;\n",
       "    }\n",
       "</style>\n",
       "<table border=\"1\" class=\"dataframe\">\n",
       "  <thead>\n",
       "    <tr style=\"text-align: right;\">\n",
       "      <th></th>\n",
       "      <th>station</th>\n",
       "      <th>week</th>\n",
       "      <th>month</th>\n",
       "      <th>month_3</th>\n",
       "      <th>month_6</th>\n",
       "      <th>year</th>\n",
       "      <th>train_number</th>\n",
       "      <th>station_code</th>\n",
       "    </tr>\n",
       "  </thead>\n",
       "  <tbody>\n",
       "    <tr>\n",
       "      <th>0</th>\n",
       "      <td>FIROZPUR CANT (FZR)</td>\n",
       "      <td>0</td>\n",
       "      <td>1</td>\n",
       "      <td>2</td>\n",
       "      <td>2</td>\n",
       "      <td>2</td>\n",
       "      <td>4604</td>\n",
       "      <td>FZR</td>\n",
       "    </tr>\n",
       "    <tr>\n",
       "      <th>1</th>\n",
       "      <td>KASU BEGU (KBU)</td>\n",
       "      <td>1</td>\n",
       "      <td>2</td>\n",
       "      <td>3</td>\n",
       "      <td>4</td>\n",
       "      <td>4</td>\n",
       "      <td>4604</td>\n",
       "      <td>KBU</td>\n",
       "    </tr>\n",
       "    <tr>\n",
       "      <th>2</th>\n",
       "      <td>GOLEHWALA (GHA)</td>\n",
       "      <td>6</td>\n",
       "      <td>6</td>\n",
       "      <td>5</td>\n",
       "      <td>5</td>\n",
       "      <td>6</td>\n",
       "      <td>4604</td>\n",
       "      <td>GHA</td>\n",
       "    </tr>\n",
       "    <tr>\n",
       "      <th>3</th>\n",
       "      <td>PIPLI PAKHI KALAN (PKZ)</td>\n",
       "      <td>6</td>\n",
       "      <td>6</td>\n",
       "      <td>5</td>\n",
       "      <td>5</td>\n",
       "      <td>6</td>\n",
       "      <td>4604</td>\n",
       "      <td>PKZ</td>\n",
       "    </tr>\n",
       "    <tr>\n",
       "      <th>4</th>\n",
       "      <td>FARIDKOT (FDK)</td>\n",
       "      <td>6</td>\n",
       "      <td>6</td>\n",
       "      <td>6</td>\n",
       "      <td>6</td>\n",
       "      <td>7</td>\n",
       "      <td>4604</td>\n",
       "      <td>FDK</td>\n",
       "    </tr>\n",
       "  </tbody>\n",
       "</table>\n",
       "</div>"
      ],
      "text/plain": [
       "                   station  week  month  month_3  month_6  year  train_number  \\\n",
       "0      FIROZPUR CANT (FZR)     0      1        2        2     2          4604   \n",
       "1          KASU BEGU (KBU)     1      2        3        4     4          4604   \n",
       "2          GOLEHWALA (GHA)     6      6        5        5     6          4604   \n",
       "3  PIPLI PAKHI KALAN (PKZ)     6      6        5        5     6          4604   \n",
       "4           FARIDKOT (FDK)     6      6        6        6     7          4604   \n",
       "\n",
       "  station_code  \n",
       "0          FZR  \n",
       "1          KBU  \n",
       "2          GHA  \n",
       "3          PKZ  \n",
       "4          FDK  "
      ]
     },
     "execution_count": 66,
     "metadata": {},
     "output_type": "execute_result"
    }
   ],
   "source": [
    "delay.head()"
   ]
  },
  {
   "cell_type": "code",
   "execution_count": 67,
   "id": "8c468d03-a78a-4102-8caf-7aaee4e957a2",
   "metadata": {},
   "outputs": [
    {
     "data": {
      "text/html": [
       "<div>\n",
       "<style scoped>\n",
       "    .dataframe tbody tr th:only-of-type {\n",
       "        vertical-align: middle;\n",
       "    }\n",
       "\n",
       "    .dataframe tbody tr th {\n",
       "        vertical-align: top;\n",
       "    }\n",
       "\n",
       "    .dataframe thead th {\n",
       "        text-align: right;\n",
       "    }\n",
       "</style>\n",
       "<table border=\"1\" class=\"dataframe\">\n",
       "  <thead>\n",
       "    <tr style=\"text-align: right;\">\n",
       "      <th></th>\n",
       "      <th>third_ac</th>\n",
       "      <th>arrival</th>\n",
       "      <th>from_station_code</th>\n",
       "      <th>name</th>\n",
       "      <th>zone</th>\n",
       "      <th>chair_car</th>\n",
       "      <th>first_class</th>\n",
       "      <th>sleeper</th>\n",
       "      <th>from_station_name</th>\n",
       "      <th>number</th>\n",
       "      <th>departure</th>\n",
       "      <th>return_train</th>\n",
       "      <th>to_station_code</th>\n",
       "      <th>second_ac</th>\n",
       "      <th>classes</th>\n",
       "      <th>to_station_name</th>\n",
       "      <th>type</th>\n",
       "      <th>first_ac</th>\n",
       "      <th>distance</th>\n",
       "      <th>duration</th>\n",
       "    </tr>\n",
       "  </thead>\n",
       "  <tbody>\n",
       "    <tr>\n",
       "      <th>0</th>\n",
       "      <td>0</td>\n",
       "      <td>12:05:00</td>\n",
       "      <td>MMR</td>\n",
       "      <td>Manmad Pune Express(Via Nasik)</td>\n",
       "      <td>CR</td>\n",
       "      <td>1</td>\n",
       "      <td>0</td>\n",
       "      <td>0</td>\n",
       "      <td>MANMAD JN</td>\n",
       "      <td>11025</td>\n",
       "      <td>04:30:00</td>\n",
       "      <td>11026</td>\n",
       "      <td>PUNE</td>\n",
       "      <td>0</td>\n",
       "      <td>NaN</td>\n",
       "      <td>PUNE JN</td>\n",
       "      <td>Exp</td>\n",
       "      <td>0</td>\n",
       "      <td>364.0</td>\n",
       "      <td>7.583333</td>\n",
       "    </tr>\n",
       "    <tr>\n",
       "      <th>1</th>\n",
       "      <td>0</td>\n",
       "      <td>21:30:00</td>\n",
       "      <td>PUNE</td>\n",
       "      <td>Pune Manmad Express</td>\n",
       "      <td>CR</td>\n",
       "      <td>1</td>\n",
       "      <td>0</td>\n",
       "      <td>0</td>\n",
       "      <td>PUNE JN</td>\n",
       "      <td>11026</td>\n",
       "      <td>12:50:00</td>\n",
       "      <td>11025</td>\n",
       "      <td>MMR</td>\n",
       "      <td>0</td>\n",
       "      <td>NaN</td>\n",
       "      <td>MANMAD JN</td>\n",
       "      <td>Exp</td>\n",
       "      <td>0</td>\n",
       "      <td>364.0</td>\n",
       "      <td>8.666667</td>\n",
       "    </tr>\n",
       "    <tr>\n",
       "      <th>2</th>\n",
       "      <td>1</td>\n",
       "      <td>04:55:00</td>\n",
       "      <td>CSTM</td>\n",
       "      <td>Mumbai CST-Chennai Mail</td>\n",
       "      <td>CR</td>\n",
       "      <td>0</td>\n",
       "      <td>0</td>\n",
       "      <td>1</td>\n",
       "      <td>MUMBAI CST</td>\n",
       "      <td>11027</td>\n",
       "      <td>23:45:00</td>\n",
       "      <td>11028</td>\n",
       "      <td>MAS</td>\n",
       "      <td>1</td>\n",
       "      <td>NaN</td>\n",
       "      <td>CHENNAI CENTRAL</td>\n",
       "      <td>Mail</td>\n",
       "      <td>0</td>\n",
       "      <td>1283.0</td>\n",
       "      <td>29.166667</td>\n",
       "    </tr>\n",
       "    <tr>\n",
       "      <th>3</th>\n",
       "      <td>0</td>\n",
       "      <td>20:25:00</td>\n",
       "      <td>CSTM</td>\n",
       "      <td>Koyna Express</td>\n",
       "      <td>CR</td>\n",
       "      <td>1</td>\n",
       "      <td>0</td>\n",
       "      <td>0</td>\n",
       "      <td>MUMBAI CST</td>\n",
       "      <td>11029</td>\n",
       "      <td>08:40:00</td>\n",
       "      <td>11030</td>\n",
       "      <td>KOP</td>\n",
       "      <td>0</td>\n",
       "      <td>NaN</td>\n",
       "      <td>C SHAHU M RAJ KOLHAPUR TERM</td>\n",
       "      <td>Exp</td>\n",
       "      <td>0</td>\n",
       "      <td>518.0</td>\n",
       "      <td>11.750000</td>\n",
       "    </tr>\n",
       "    <tr>\n",
       "      <th>4</th>\n",
       "      <td>0</td>\n",
       "      <td>20:22:00</td>\n",
       "      <td>KOP</td>\n",
       "      <td>Koyna Express</td>\n",
       "      <td>CR</td>\n",
       "      <td>1</td>\n",
       "      <td>0</td>\n",
       "      <td>0</td>\n",
       "      <td>C SHAHU M RAJ KOLHAPUR TERM</td>\n",
       "      <td>11030</td>\n",
       "      <td>07:55:00</td>\n",
       "      <td>11029</td>\n",
       "      <td>CSTM</td>\n",
       "      <td>0</td>\n",
       "      <td>NaN</td>\n",
       "      <td>MUMBAI CST</td>\n",
       "      <td>Exp</td>\n",
       "      <td>0</td>\n",
       "      <td>518.0</td>\n",
       "      <td>12.450000</td>\n",
       "    </tr>\n",
       "  </tbody>\n",
       "</table>\n",
       "</div>"
      ],
      "text/plain": [
       "   third_ac   arrival from_station_code                            name zone  \\\n",
       "0         0  12:05:00               MMR  Manmad Pune Express(Via Nasik)   CR   \n",
       "1         0  21:30:00              PUNE             Pune Manmad Express   CR   \n",
       "2         1  04:55:00              CSTM         Mumbai CST-Chennai Mail   CR   \n",
       "3         0  20:25:00              CSTM                   Koyna Express   CR   \n",
       "4         0  20:22:00               KOP                   Koyna Express   CR   \n",
       "\n",
       "   chair_car  first_class  sleeper            from_station_name  number  \\\n",
       "0          1            0        0                    MANMAD JN   11025   \n",
       "1          1            0        0                      PUNE JN   11026   \n",
       "2          0            0        1                   MUMBAI CST   11027   \n",
       "3          1            0        0                   MUMBAI CST   11029   \n",
       "4          1            0        0  C SHAHU M RAJ KOLHAPUR TERM   11030   \n",
       "\n",
       "  departure return_train to_station_code  second_ac  classes  \\\n",
       "0  04:30:00        11026            PUNE          0      NaN   \n",
       "1  12:50:00        11025             MMR          0      NaN   \n",
       "2  23:45:00        11028             MAS          1      NaN   \n",
       "3  08:40:00        11030             KOP          0      NaN   \n",
       "4  07:55:00        11029            CSTM          0      NaN   \n",
       "\n",
       "               to_station_name  type  first_ac  distance   duration  \n",
       "0                      PUNE JN   Exp         0     364.0   7.583333  \n",
       "1                    MANMAD JN   Exp         0     364.0   8.666667  \n",
       "2              CHENNAI CENTRAL  Mail         0    1283.0  29.166667  \n",
       "3  C SHAHU M RAJ KOLHAPUR TERM   Exp         0     518.0  11.750000  \n",
       "4                   MUMBAI CST   Exp         0     518.0  12.450000  "
      ]
     },
     "execution_count": 67,
     "metadata": {},
     "output_type": "execute_result"
    }
   ],
   "source": [
    "train.head()"
   ]
  },
  {
   "cell_type": "code",
   "execution_count": 68,
   "id": "0e15f22b-dd41-4aee-8dbb-bdd1ddfc8236",
   "metadata": {},
   "outputs": [],
   "source": [
    "new_df = delay.merge(train, left_on=\"train_number\", right_on=\"number\")"
   ]
  },
  {
   "cell_type": "code",
   "execution_count": 69,
   "id": "b2c7b66f-1880-4b8a-a1f7-c6ccc36e8a80",
   "metadata": {},
   "outputs": [
    {
     "data": {
      "text/html": [
       "<div>\n",
       "<style scoped>\n",
       "    .dataframe tbody tr th:only-of-type {\n",
       "        vertical-align: middle;\n",
       "    }\n",
       "\n",
       "    .dataframe tbody tr th {\n",
       "        vertical-align: top;\n",
       "    }\n",
       "\n",
       "    .dataframe thead th {\n",
       "        text-align: right;\n",
       "    }\n",
       "</style>\n",
       "<table border=\"1\" class=\"dataframe\">\n",
       "  <thead>\n",
       "    <tr style=\"text-align: right;\">\n",
       "      <th></th>\n",
       "      <th>station</th>\n",
       "      <th>week</th>\n",
       "      <th>month</th>\n",
       "      <th>month_3</th>\n",
       "      <th>month_6</th>\n",
       "      <th>year</th>\n",
       "      <th>train_number</th>\n",
       "      <th>station_code</th>\n",
       "      <th>third_ac</th>\n",
       "      <th>arrival</th>\n",
       "      <th>...</th>\n",
       "      <th>departure</th>\n",
       "      <th>return_train</th>\n",
       "      <th>to_station_code</th>\n",
       "      <th>second_ac</th>\n",
       "      <th>classes</th>\n",
       "      <th>to_station_name</th>\n",
       "      <th>type</th>\n",
       "      <th>first_ac</th>\n",
       "      <th>distance</th>\n",
       "      <th>duration</th>\n",
       "    </tr>\n",
       "  </thead>\n",
       "  <tbody>\n",
       "    <tr>\n",
       "      <th>0</th>\n",
       "      <td>C SHIVAJI TERM MUMBAI (CSMT)</td>\n",
       "      <td>12</td>\n",
       "      <td>7</td>\n",
       "      <td>14</td>\n",
       "      <td>20</td>\n",
       "      <td>16</td>\n",
       "      <td>10103</td>\n",
       "      <td>CSMT</td>\n",
       "      <td>1</td>\n",
       "      <td>18:45:00</td>\n",
       "      <td>...</td>\n",
       "      <td>06:55:00</td>\n",
       "      <td>10104</td>\n",
       "      <td>MAO</td>\n",
       "      <td>1</td>\n",
       "      <td>NaN</td>\n",
       "      <td>MADGAON</td>\n",
       "      <td>Exp</td>\n",
       "      <td>1</td>\n",
       "      <td>765.0</td>\n",
       "      <td>11.833333</td>\n",
       "    </tr>\n",
       "    <tr>\n",
       "      <th>1</th>\n",
       "      <td>DADAR (DR)</td>\n",
       "      <td>17</td>\n",
       "      <td>14</td>\n",
       "      <td>20</td>\n",
       "      <td>25</td>\n",
       "      <td>19</td>\n",
       "      <td>10103</td>\n",
       "      <td>DR</td>\n",
       "      <td>1</td>\n",
       "      <td>18:45:00</td>\n",
       "      <td>...</td>\n",
       "      <td>06:55:00</td>\n",
       "      <td>10104</td>\n",
       "      <td>MAO</td>\n",
       "      <td>1</td>\n",
       "      <td>NaN</td>\n",
       "      <td>MADGAON</td>\n",
       "      <td>Exp</td>\n",
       "      <td>1</td>\n",
       "      <td>765.0</td>\n",
       "      <td>11.833333</td>\n",
       "    </tr>\n",
       "    <tr>\n",
       "      <th>2</th>\n",
       "      <td>THANE (TNA)</td>\n",
       "      <td>15</td>\n",
       "      <td>12</td>\n",
       "      <td>19</td>\n",
       "      <td>24</td>\n",
       "      <td>18</td>\n",
       "      <td>10103</td>\n",
       "      <td>TNA</td>\n",
       "      <td>1</td>\n",
       "      <td>18:45:00</td>\n",
       "      <td>...</td>\n",
       "      <td>06:55:00</td>\n",
       "      <td>10104</td>\n",
       "      <td>MAO</td>\n",
       "      <td>1</td>\n",
       "      <td>NaN</td>\n",
       "      <td>MADGAON</td>\n",
       "      <td>Exp</td>\n",
       "      <td>1</td>\n",
       "      <td>765.0</td>\n",
       "      <td>11.833333</td>\n",
       "    </tr>\n",
       "    <tr>\n",
       "      <th>3</th>\n",
       "      <td>PANVEL (PNVL)</td>\n",
       "      <td>23</td>\n",
       "      <td>20</td>\n",
       "      <td>28</td>\n",
       "      <td>35</td>\n",
       "      <td>27</td>\n",
       "      <td>10103</td>\n",
       "      <td>PNVL</td>\n",
       "      <td>1</td>\n",
       "      <td>18:45:00</td>\n",
       "      <td>...</td>\n",
       "      <td>06:55:00</td>\n",
       "      <td>10104</td>\n",
       "      <td>MAO</td>\n",
       "      <td>1</td>\n",
       "      <td>NaN</td>\n",
       "      <td>MADGAON</td>\n",
       "      <td>Exp</td>\n",
       "      <td>1</td>\n",
       "      <td>765.0</td>\n",
       "      <td>11.833333</td>\n",
       "    </tr>\n",
       "    <tr>\n",
       "      <th>4</th>\n",
       "      <td>MANGAON (MNI)</td>\n",
       "      <td>6</td>\n",
       "      <td>8</td>\n",
       "      <td>16</td>\n",
       "      <td>23</td>\n",
       "      <td>16</td>\n",
       "      <td>10103</td>\n",
       "      <td>MNI</td>\n",
       "      <td>1</td>\n",
       "      <td>18:45:00</td>\n",
       "      <td>...</td>\n",
       "      <td>06:55:00</td>\n",
       "      <td>10104</td>\n",
       "      <td>MAO</td>\n",
       "      <td>1</td>\n",
       "      <td>NaN</td>\n",
       "      <td>MADGAON</td>\n",
       "      <td>Exp</td>\n",
       "      <td>1</td>\n",
       "      <td>765.0</td>\n",
       "      <td>11.833333</td>\n",
       "    </tr>\n",
       "  </tbody>\n",
       "</table>\n",
       "<p>5 rows × 28 columns</p>\n",
       "</div>"
      ],
      "text/plain": [
       "                        station  week  month  month_3  month_6  year  \\\n",
       "0  C SHIVAJI TERM MUMBAI (CSMT)    12      7       14       20    16   \n",
       "1                    DADAR (DR)    17     14       20       25    19   \n",
       "2                   THANE (TNA)    15     12       19       24    18   \n",
       "3                 PANVEL (PNVL)    23     20       28       35    27   \n",
       "4                 MANGAON (MNI)     6      8       16       23    16   \n",
       "\n",
       "   train_number station_code  third_ac   arrival  ... departure return_train  \\\n",
       "0         10103         CSMT         1  18:45:00  ...  06:55:00        10104   \n",
       "1         10103           DR         1  18:45:00  ...  06:55:00        10104   \n",
       "2         10103          TNA         1  18:45:00  ...  06:55:00        10104   \n",
       "3         10103         PNVL         1  18:45:00  ...  06:55:00        10104   \n",
       "4         10103          MNI         1  18:45:00  ...  06:55:00        10104   \n",
       "\n",
       "  to_station_code  second_ac  classes  to_station_name type  first_ac  \\\n",
       "0             MAO          1      NaN          MADGAON  Exp         1   \n",
       "1             MAO          1      NaN          MADGAON  Exp         1   \n",
       "2             MAO          1      NaN          MADGAON  Exp         1   \n",
       "3             MAO          1      NaN          MADGAON  Exp         1   \n",
       "4             MAO          1      NaN          MADGAON  Exp         1   \n",
       "\n",
       "  distance   duration  \n",
       "0    765.0  11.833333  \n",
       "1    765.0  11.833333  \n",
       "2    765.0  11.833333  \n",
       "3    765.0  11.833333  \n",
       "4    765.0  11.833333  \n",
       "\n",
       "[5 rows x 28 columns]"
      ]
     },
     "execution_count": 69,
     "metadata": {},
     "output_type": "execute_result"
    }
   ],
   "source": [
    "new_df.head()"
   ]
  },
  {
   "cell_type": "code",
   "execution_count": 70,
   "id": "961912f9-875e-4ee4-b229-93713c847d1c",
   "metadata": {},
   "outputs": [
    {
     "data": {
      "text/plain": [
       "(27320, 28)"
      ]
     },
     "execution_count": 70,
     "metadata": {},
     "output_type": "execute_result"
    }
   ],
   "source": [
    "new_df.shape"
   ]
  },
  {
   "cell_type": "code",
   "execution_count": 71,
   "id": "260cebf8-b226-4ea5-ad43-bad4350746ee",
   "metadata": {},
   "outputs": [
    {
     "data": {
      "text/plain": [
       "Index(['station', 'week', 'month', 'month_3', 'month_6', 'year',\n",
       "       'train_number', 'station_code', 'third_ac', 'arrival',\n",
       "       'from_station_code', 'name', 'zone', 'chair_car', 'first_class',\n",
       "       'sleeper', 'from_station_name', 'number', 'departure', 'return_train',\n",
       "       'to_station_code', 'second_ac', 'classes', 'to_station_name', 'type',\n",
       "       'first_ac', 'distance', 'duration'],\n",
       "      dtype='object')"
      ]
     },
     "execution_count": 71,
     "metadata": {},
     "output_type": "execute_result"
    }
   ],
   "source": [
    "new_df.columns"
   ]
  },
  {
   "cell_type": "code",
   "execution_count": 72,
   "id": "a9a56edc-792a-4d90-b8c2-334e0f692256",
   "metadata": {},
   "outputs": [],
   "source": [
    "data = new_df[\n",
    "    [\n",
    "        \"train_number\",\n",
    "        \"station_code\",\n",
    "        \"third_ac\",\n",
    "        \"zone\",\n",
    "        \"chair_car\",\n",
    "        \"first_class\",\n",
    "        \"sleeper\",\n",
    "        \"second_ac\",\n",
    "        \"type\",\n",
    "        \"first_ac\",\n",
    "        \"distance\",\n",
    "        \"duration\",\n",
    "        \"month\",\n",
    "        \"month_3\",\n",
    "        \"month_6\",\n",
    "        \"year\",\n",
    "        \"week\",\n",
    "    ]\n",
    "]"
   ]
  },
  {
   "cell_type": "code",
   "execution_count": 73,
   "id": "411e9fdc-b8f3-4ea6-9a30-ddc976d12a0b",
   "metadata": {},
   "outputs": [
    {
     "data": {
      "text/html": [
       "<div>\n",
       "<style scoped>\n",
       "    .dataframe tbody tr th:only-of-type {\n",
       "        vertical-align: middle;\n",
       "    }\n",
       "\n",
       "    .dataframe tbody tr th {\n",
       "        vertical-align: top;\n",
       "    }\n",
       "\n",
       "    .dataframe thead th {\n",
       "        text-align: right;\n",
       "    }\n",
       "</style>\n",
       "<table border=\"1\" class=\"dataframe\">\n",
       "  <thead>\n",
       "    <tr style=\"text-align: right;\">\n",
       "      <th></th>\n",
       "      <th>train_number</th>\n",
       "      <th>station_code</th>\n",
       "      <th>third_ac</th>\n",
       "      <th>zone</th>\n",
       "      <th>chair_car</th>\n",
       "      <th>first_class</th>\n",
       "      <th>sleeper</th>\n",
       "      <th>second_ac</th>\n",
       "      <th>type</th>\n",
       "      <th>first_ac</th>\n",
       "      <th>distance</th>\n",
       "      <th>duration</th>\n",
       "      <th>month</th>\n",
       "      <th>month_3</th>\n",
       "      <th>month_6</th>\n",
       "      <th>year</th>\n",
       "      <th>week</th>\n",
       "    </tr>\n",
       "  </thead>\n",
       "  <tbody>\n",
       "    <tr>\n",
       "      <th>0</th>\n",
       "      <td>10103</td>\n",
       "      <td>CSMT</td>\n",
       "      <td>1</td>\n",
       "      <td>KR</td>\n",
       "      <td>0</td>\n",
       "      <td>0</td>\n",
       "      <td>1</td>\n",
       "      <td>1</td>\n",
       "      <td>Exp</td>\n",
       "      <td>1</td>\n",
       "      <td>765.0</td>\n",
       "      <td>11.833333</td>\n",
       "      <td>7</td>\n",
       "      <td>14</td>\n",
       "      <td>20</td>\n",
       "      <td>16</td>\n",
       "      <td>12</td>\n",
       "    </tr>\n",
       "    <tr>\n",
       "      <th>1</th>\n",
       "      <td>10103</td>\n",
       "      <td>DR</td>\n",
       "      <td>1</td>\n",
       "      <td>KR</td>\n",
       "      <td>0</td>\n",
       "      <td>0</td>\n",
       "      <td>1</td>\n",
       "      <td>1</td>\n",
       "      <td>Exp</td>\n",
       "      <td>1</td>\n",
       "      <td>765.0</td>\n",
       "      <td>11.833333</td>\n",
       "      <td>14</td>\n",
       "      <td>20</td>\n",
       "      <td>25</td>\n",
       "      <td>19</td>\n",
       "      <td>17</td>\n",
       "    </tr>\n",
       "    <tr>\n",
       "      <th>2</th>\n",
       "      <td>10103</td>\n",
       "      <td>TNA</td>\n",
       "      <td>1</td>\n",
       "      <td>KR</td>\n",
       "      <td>0</td>\n",
       "      <td>0</td>\n",
       "      <td>1</td>\n",
       "      <td>1</td>\n",
       "      <td>Exp</td>\n",
       "      <td>1</td>\n",
       "      <td>765.0</td>\n",
       "      <td>11.833333</td>\n",
       "      <td>12</td>\n",
       "      <td>19</td>\n",
       "      <td>24</td>\n",
       "      <td>18</td>\n",
       "      <td>15</td>\n",
       "    </tr>\n",
       "    <tr>\n",
       "      <th>3</th>\n",
       "      <td>10103</td>\n",
       "      <td>PNVL</td>\n",
       "      <td>1</td>\n",
       "      <td>KR</td>\n",
       "      <td>0</td>\n",
       "      <td>0</td>\n",
       "      <td>1</td>\n",
       "      <td>1</td>\n",
       "      <td>Exp</td>\n",
       "      <td>1</td>\n",
       "      <td>765.0</td>\n",
       "      <td>11.833333</td>\n",
       "      <td>20</td>\n",
       "      <td>28</td>\n",
       "      <td>35</td>\n",
       "      <td>27</td>\n",
       "      <td>23</td>\n",
       "    </tr>\n",
       "    <tr>\n",
       "      <th>4</th>\n",
       "      <td>10103</td>\n",
       "      <td>MNI</td>\n",
       "      <td>1</td>\n",
       "      <td>KR</td>\n",
       "      <td>0</td>\n",
       "      <td>0</td>\n",
       "      <td>1</td>\n",
       "      <td>1</td>\n",
       "      <td>Exp</td>\n",
       "      <td>1</td>\n",
       "      <td>765.0</td>\n",
       "      <td>11.833333</td>\n",
       "      <td>8</td>\n",
       "      <td>16</td>\n",
       "      <td>23</td>\n",
       "      <td>16</td>\n",
       "      <td>6</td>\n",
       "    </tr>\n",
       "  </tbody>\n",
       "</table>\n",
       "</div>"
      ],
      "text/plain": [
       "   train_number station_code  third_ac zone  chair_car  first_class  sleeper  \\\n",
       "0         10103         CSMT         1   KR          0            0        1   \n",
       "1         10103           DR         1   KR          0            0        1   \n",
       "2         10103          TNA         1   KR          0            0        1   \n",
       "3         10103         PNVL         1   KR          0            0        1   \n",
       "4         10103          MNI         1   KR          0            0        1   \n",
       "\n",
       "   second_ac type  first_ac  distance   duration  month  month_3  month_6  \\\n",
       "0          1  Exp         1     765.0  11.833333      7       14       20   \n",
       "1          1  Exp         1     765.0  11.833333     14       20       25   \n",
       "2          1  Exp         1     765.0  11.833333     12       19       24   \n",
       "3          1  Exp         1     765.0  11.833333     20       28       35   \n",
       "4          1  Exp         1     765.0  11.833333      8       16       23   \n",
       "\n",
       "   year  week  \n",
       "0    16    12  \n",
       "1    19    17  \n",
       "2    18    15  \n",
       "3    27    23  \n",
       "4    16     6  "
      ]
     },
     "execution_count": 73,
     "metadata": {},
     "output_type": "execute_result"
    }
   ],
   "source": [
    "data.head()"
   ]
  },
  {
   "cell_type": "code",
   "execution_count": 74,
   "id": "e9ab257b-5e95-4a17-9382-5e1b82bd94ba",
   "metadata": {},
   "outputs": [
    {
     "name": "stdout",
     "output_type": "stream",
     "text": [
      "<class 'pandas.core.frame.DataFrame'>\n",
      "Int64Index: 27320 entries, 0 to 27319\n",
      "Data columns (total 17 columns):\n",
      " #   Column        Non-Null Count  Dtype  \n",
      "---  ------        --------------  -----  \n",
      " 0   train_number  27320 non-null  int64  \n",
      " 1   station_code  27320 non-null  object \n",
      " 2   third_ac      27320 non-null  int64  \n",
      " 3   zone          27320 non-null  object \n",
      " 4   chair_car     27320 non-null  int64  \n",
      " 5   first_class   27320 non-null  int64  \n",
      " 6   sleeper       27320 non-null  int64  \n",
      " 7   second_ac     27320 non-null  int64  \n",
      " 8   type          27320 non-null  object \n",
      " 9   first_ac      27320 non-null  int64  \n",
      " 10  distance      27320 non-null  float64\n",
      " 11  duration      27320 non-null  float64\n",
      " 12  month         27320 non-null  int64  \n",
      " 13  month_3       27320 non-null  int64  \n",
      " 14  month_6       27320 non-null  int64  \n",
      " 15  year          27320 non-null  int64  \n",
      " 16  week          27320 non-null  int64  \n",
      "dtypes: float64(2), int64(12), object(3)\n",
      "memory usage: 3.8+ MB\n"
     ]
    }
   ],
   "source": [
    "data.info()"
   ]
  },
  {
   "cell_type": "code",
   "execution_count": 75,
   "id": "665c0d65-5b5c-4397-87c4-67013f116e7b",
   "metadata": {},
   "outputs": [],
   "source": [
    "temp_data = (\n",
    "    data[[\"train_number\", \"month\", \"month_3\", \"month_6\", \"year\"]]\n",
    "    .groupby(\"train_number\")\n",
    "    .mean()\n",
    ")\n",
    "\n",
    "temp_data\n",
    "\n",
    "lb = km.predict(temp_data)\n",
    "\n",
    "temp_data[\"train_delay_level\"] = lb\n",
    "\n",
    "data = data.merge(\n",
    "    temp_data[[\"train_delay_level\"]], left_on=\"train_number\", right_on=\"train_number\"\n",
    ")"
   ]
  },
  {
   "cell_type": "code",
   "execution_count": 76,
   "id": "97d2527a-5963-4618-bd9d-1bbaaaf150db",
   "metadata": {},
   "outputs": [],
   "source": [
    "temp_data = (\n",
    "    data[[\"station_code\", \"month\", \"month_3\", \"month_6\", \"year\"]]\n",
    "    .groupby(\"station_code\")\n",
    "    .mean()\n",
    ")\n",
    "\n",
    "lb = km_s.predict(temp_data)\n",
    "\n",
    "temp_data[\"station_delay_level\"] = lb\n",
    "\n",
    "data = data.merge(\n",
    "    temp_data[[\"station_delay_level\"]], left_on=\"station_code\", right_on=\"station_code\"\n",
    ")"
   ]
  },
  {
   "cell_type": "code",
   "execution_count": 77,
   "id": "b13e7366-2f5b-4e2a-91e3-3eed389a4f9c",
   "metadata": {},
   "outputs": [
    {
     "data": {
      "text/html": [
       "<div>\n",
       "<style scoped>\n",
       "    .dataframe tbody tr th:only-of-type {\n",
       "        vertical-align: middle;\n",
       "    }\n",
       "\n",
       "    .dataframe tbody tr th {\n",
       "        vertical-align: top;\n",
       "    }\n",
       "\n",
       "    .dataframe thead th {\n",
       "        text-align: right;\n",
       "    }\n",
       "</style>\n",
       "<table border=\"1\" class=\"dataframe\">\n",
       "  <thead>\n",
       "    <tr style=\"text-align: right;\">\n",
       "      <th></th>\n",
       "      <th>train_number</th>\n",
       "      <th>station_code</th>\n",
       "      <th>third_ac</th>\n",
       "      <th>zone</th>\n",
       "      <th>chair_car</th>\n",
       "      <th>first_class</th>\n",
       "      <th>sleeper</th>\n",
       "      <th>second_ac</th>\n",
       "      <th>type</th>\n",
       "      <th>first_ac</th>\n",
       "      <th>distance</th>\n",
       "      <th>duration</th>\n",
       "      <th>month</th>\n",
       "      <th>month_3</th>\n",
       "      <th>month_6</th>\n",
       "      <th>year</th>\n",
       "      <th>week</th>\n",
       "      <th>train_delay_level</th>\n",
       "      <th>station_delay_level</th>\n",
       "    </tr>\n",
       "  </thead>\n",
       "  <tbody>\n",
       "    <tr>\n",
       "      <th>0</th>\n",
       "      <td>10103</td>\n",
       "      <td>CSMT</td>\n",
       "      <td>1</td>\n",
       "      <td>KR</td>\n",
       "      <td>0</td>\n",
       "      <td>0</td>\n",
       "      <td>1</td>\n",
       "      <td>1</td>\n",
       "      <td>Exp</td>\n",
       "      <td>1</td>\n",
       "      <td>765.0</td>\n",
       "      <td>11.833333</td>\n",
       "      <td>7</td>\n",
       "      <td>14</td>\n",
       "      <td>20</td>\n",
       "      <td>16</td>\n",
       "      <td>12</td>\n",
       "      <td>4</td>\n",
       "      <td>1</td>\n",
       "    </tr>\n",
       "    <tr>\n",
       "      <th>1</th>\n",
       "      <td>10104</td>\n",
       "      <td>CSMT</td>\n",
       "      <td>1</td>\n",
       "      <td>KR</td>\n",
       "      <td>0</td>\n",
       "      <td>0</td>\n",
       "      <td>1</td>\n",
       "      <td>1</td>\n",
       "      <td>Exp</td>\n",
       "      <td>1</td>\n",
       "      <td>765.0</td>\n",
       "      <td>12.000000</td>\n",
       "      <td>10</td>\n",
       "      <td>14</td>\n",
       "      <td>16</td>\n",
       "      <td>17</td>\n",
       "      <td>12</td>\n",
       "      <td>2</td>\n",
       "      <td>1</td>\n",
       "    </tr>\n",
       "    <tr>\n",
       "      <th>2</th>\n",
       "      <td>11007</td>\n",
       "      <td>CSMT</td>\n",
       "      <td>0</td>\n",
       "      <td>CR</td>\n",
       "      <td>1</td>\n",
       "      <td>0</td>\n",
       "      <td>0</td>\n",
       "      <td>0</td>\n",
       "      <td>Exp</td>\n",
       "      <td>0</td>\n",
       "      <td>192.0</td>\n",
       "      <td>4.000000</td>\n",
       "      <td>1</td>\n",
       "      <td>1</td>\n",
       "      <td>1</td>\n",
       "      <td>3</td>\n",
       "      <td>1</td>\n",
       "      <td>0</td>\n",
       "      <td>1</td>\n",
       "    </tr>\n",
       "    <tr>\n",
       "      <th>3</th>\n",
       "      <td>11008</td>\n",
       "      <td>CSMT</td>\n",
       "      <td>0</td>\n",
       "      <td>CR</td>\n",
       "      <td>1</td>\n",
       "      <td>0</td>\n",
       "      <td>0</td>\n",
       "      <td>0</td>\n",
       "      <td>Exp</td>\n",
       "      <td>0</td>\n",
       "      <td>192.0</td>\n",
       "      <td>4.166667</td>\n",
       "      <td>13</td>\n",
       "      <td>15</td>\n",
       "      <td>16</td>\n",
       "      <td>13</td>\n",
       "      <td>9</td>\n",
       "      <td>0</td>\n",
       "      <td>1</td>\n",
       "    </tr>\n",
       "    <tr>\n",
       "      <th>4</th>\n",
       "      <td>11009</td>\n",
       "      <td>CSMT</td>\n",
       "      <td>0</td>\n",
       "      <td>CR</td>\n",
       "      <td>1</td>\n",
       "      <td>0</td>\n",
       "      <td>0</td>\n",
       "      <td>0</td>\n",
       "      <td>Exp</td>\n",
       "      <td>0</td>\n",
       "      <td>192.0</td>\n",
       "      <td>4.166667</td>\n",
       "      <td>1</td>\n",
       "      <td>1</td>\n",
       "      <td>1</td>\n",
       "      <td>2</td>\n",
       "      <td>0</td>\n",
       "      <td>0</td>\n",
       "      <td>1</td>\n",
       "    </tr>\n",
       "  </tbody>\n",
       "</table>\n",
       "</div>"
      ],
      "text/plain": [
       "   train_number station_code  third_ac zone  chair_car  first_class  sleeper  \\\n",
       "0         10103         CSMT         1   KR          0            0        1   \n",
       "1         10104         CSMT         1   KR          0            0        1   \n",
       "2         11007         CSMT         0   CR          1            0        0   \n",
       "3         11008         CSMT         0   CR          1            0        0   \n",
       "4         11009         CSMT         0   CR          1            0        0   \n",
       "\n",
       "   second_ac type  first_ac  distance   duration  month  month_3  month_6  \\\n",
       "0          1  Exp         1     765.0  11.833333      7       14       20   \n",
       "1          1  Exp         1     765.0  12.000000     10       14       16   \n",
       "2          0  Exp         0     192.0   4.000000      1        1        1   \n",
       "3          0  Exp         0     192.0   4.166667     13       15       16   \n",
       "4          0  Exp         0     192.0   4.166667      1        1        1   \n",
       "\n",
       "   year  week  train_delay_level  station_delay_level  \n",
       "0    16    12                  4                    1  \n",
       "1    17    12                  2                    1  \n",
       "2     3     1                  0                    1  \n",
       "3    13     9                  0                    1  \n",
       "4     2     0                  0                    1  "
      ]
     },
     "execution_count": 77,
     "metadata": {},
     "output_type": "execute_result"
    }
   ],
   "source": [
    "data.head()"
   ]
  },
  {
   "cell_type": "code",
   "execution_count": 78,
   "id": "e72ad46d-b8ab-4bb6-997b-12f800928559",
   "metadata": {},
   "outputs": [
    {
     "name": "stdout",
     "output_type": "stream",
     "text": [
      "<class 'pandas.core.frame.DataFrame'>\n",
      "Int64Index: 27320 entries, 0 to 27319\n",
      "Data columns (total 19 columns):\n",
      " #   Column               Non-Null Count  Dtype  \n",
      "---  ------               --------------  -----  \n",
      " 0   train_number         27320 non-null  int64  \n",
      " 1   station_code         27320 non-null  object \n",
      " 2   third_ac             27320 non-null  int64  \n",
      " 3   zone                 27320 non-null  object \n",
      " 4   chair_car            27320 non-null  int64  \n",
      " 5   first_class          27320 non-null  int64  \n",
      " 6   sleeper              27320 non-null  int64  \n",
      " 7   second_ac            27320 non-null  int64  \n",
      " 8   type                 27320 non-null  object \n",
      " 9   first_ac             27320 non-null  int64  \n",
      " 10  distance             27320 non-null  float64\n",
      " 11  duration             27320 non-null  float64\n",
      " 12  month                27320 non-null  int64  \n",
      " 13  month_3              27320 non-null  int64  \n",
      " 14  month_6              27320 non-null  int64  \n",
      " 15  year                 27320 non-null  int64  \n",
      " 16  week                 27320 non-null  int64  \n",
      " 17  train_delay_level    27320 non-null  int32  \n",
      " 18  station_delay_level  27320 non-null  int32  \n",
      "dtypes: float64(2), int32(2), int64(12), object(3)\n",
      "memory usage: 4.0+ MB\n"
     ]
    }
   ],
   "source": [
    "data.info()"
   ]
  },
  {
   "cell_type": "code",
   "execution_count": 79,
   "id": "689add17-0ba6-40e4-9d3a-4759a20006b7",
   "metadata": {},
   "outputs": [
    {
     "data": {
      "text/html": [
       "<div>\n",
       "<style scoped>\n",
       "    .dataframe tbody tr th:only-of-type {\n",
       "        vertical-align: middle;\n",
       "    }\n",
       "\n",
       "    .dataframe tbody tr th {\n",
       "        vertical-align: top;\n",
       "    }\n",
       "\n",
       "    .dataframe thead th {\n",
       "        text-align: right;\n",
       "    }\n",
       "</style>\n",
       "<table border=\"1\" class=\"dataframe\">\n",
       "  <thead>\n",
       "    <tr style=\"text-align: right;\">\n",
       "      <th></th>\n",
       "      <th>train_number</th>\n",
       "      <th>third_ac</th>\n",
       "      <th>chair_car</th>\n",
       "      <th>first_class</th>\n",
       "      <th>sleeper</th>\n",
       "      <th>second_ac</th>\n",
       "      <th>first_ac</th>\n",
       "      <th>distance</th>\n",
       "      <th>duration</th>\n",
       "      <th>month</th>\n",
       "      <th>month_3</th>\n",
       "      <th>month_6</th>\n",
       "      <th>year</th>\n",
       "      <th>week</th>\n",
       "      <th>train_delay_level</th>\n",
       "      <th>station_delay_level</th>\n",
       "    </tr>\n",
       "  </thead>\n",
       "  <tbody>\n",
       "    <tr>\n",
       "      <th>count</th>\n",
       "      <td>27320.000000</td>\n",
       "      <td>27320.000000</td>\n",
       "      <td>27320.000000</td>\n",
       "      <td>27320.000000</td>\n",
       "      <td>27320.000000</td>\n",
       "      <td>27320.000000</td>\n",
       "      <td>27320.000000</td>\n",
       "      <td>27320.000000</td>\n",
       "      <td>27320.000000</td>\n",
       "      <td>27320.000000</td>\n",
       "      <td>27320.000000</td>\n",
       "      <td>27320.000000</td>\n",
       "      <td>27320.000000</td>\n",
       "      <td>27320.000000</td>\n",
       "      <td>27320.000000</td>\n",
       "      <td>27320.000000</td>\n",
       "    </tr>\n",
       "    <tr>\n",
       "      <th>mean</th>\n",
       "      <td>14588.040300</td>\n",
       "      <td>0.817972</td>\n",
       "      <td>0.152672</td>\n",
       "      <td>0.026171</td>\n",
       "      <td>0.798719</td>\n",
       "      <td>0.720168</td>\n",
       "      <td>0.180234</td>\n",
       "      <td>1246.997840</td>\n",
       "      <td>24.052784</td>\n",
       "      <td>48.866581</td>\n",
       "      <td>55.038946</td>\n",
       "      <td>55.407613</td>\n",
       "      <td>48.759114</td>\n",
       "      <td>44.117130</td>\n",
       "      <td>3.097108</td>\n",
       "      <td>4.506259</td>\n",
       "    </tr>\n",
       "    <tr>\n",
       "      <th>std</th>\n",
       "      <td>3455.335282</td>\n",
       "      <td>0.385875</td>\n",
       "      <td>0.359678</td>\n",
       "      <td>0.159647</td>\n",
       "      <td>0.400965</td>\n",
       "      <td>0.448925</td>\n",
       "      <td>0.384389</td>\n",
       "      <td>776.234669</td>\n",
       "      <td>14.343989</td>\n",
       "      <td>59.711469</td>\n",
       "      <td>62.389282</td>\n",
       "      <td>67.343295</td>\n",
       "      <td>54.254110</td>\n",
       "      <td>67.681416</td>\n",
       "      <td>2.808891</td>\n",
       "      <td>2.896894</td>\n",
       "    </tr>\n",
       "    <tr>\n",
       "      <th>min</th>\n",
       "      <td>10103.000000</td>\n",
       "      <td>0.000000</td>\n",
       "      <td>0.000000</td>\n",
       "      <td>0.000000</td>\n",
       "      <td>0.000000</td>\n",
       "      <td>0.000000</td>\n",
       "      <td>0.000000</td>\n",
       "      <td>31.000000</td>\n",
       "      <td>1.750000</td>\n",
       "      <td>0.000000</td>\n",
       "      <td>0.000000</td>\n",
       "      <td>0.000000</td>\n",
       "      <td>0.000000</td>\n",
       "      <td>0.000000</td>\n",
       "      <td>0.000000</td>\n",
       "      <td>0.000000</td>\n",
       "    </tr>\n",
       "    <tr>\n",
       "      <th>25%</th>\n",
       "      <td>12610.000000</td>\n",
       "      <td>1.000000</td>\n",
       "      <td>0.000000</td>\n",
       "      <td>0.000000</td>\n",
       "      <td>1.000000</td>\n",
       "      <td>0.000000</td>\n",
       "      <td>0.000000</td>\n",
       "      <td>605.000000</td>\n",
       "      <td>12.500000</td>\n",
       "      <td>12.000000</td>\n",
       "      <td>15.000000</td>\n",
       "      <td>16.000000</td>\n",
       "      <td>16.000000</td>\n",
       "      <td>8.000000</td>\n",
       "      <td>0.000000</td>\n",
       "      <td>2.000000</td>\n",
       "    </tr>\n",
       "    <tr>\n",
       "      <th>50%</th>\n",
       "      <td>13246.000000</td>\n",
       "      <td>1.000000</td>\n",
       "      <td>0.000000</td>\n",
       "      <td>0.000000</td>\n",
       "      <td>1.000000</td>\n",
       "      <td>1.000000</td>\n",
       "      <td>0.000000</td>\n",
       "      <td>1106.000000</td>\n",
       "      <td>22.250000</td>\n",
       "      <td>27.000000</td>\n",
       "      <td>33.000000</td>\n",
       "      <td>33.000000</td>\n",
       "      <td>30.000000</td>\n",
       "      <td>22.000000</td>\n",
       "      <td>2.000000</td>\n",
       "      <td>6.000000</td>\n",
       "    </tr>\n",
       "    <tr>\n",
       "      <th>75%</th>\n",
       "      <td>16336.000000</td>\n",
       "      <td>1.000000</td>\n",
       "      <td>0.000000</td>\n",
       "      <td>0.000000</td>\n",
       "      <td>1.000000</td>\n",
       "      <td>1.000000</td>\n",
       "      <td>0.000000</td>\n",
       "      <td>1804.000000</td>\n",
       "      <td>33.500000</td>\n",
       "      <td>60.000000</td>\n",
       "      <td>70.000000</td>\n",
       "      <td>69.000000</td>\n",
       "      <td>61.000000</td>\n",
       "      <td>51.000000</td>\n",
       "      <td>4.000000</td>\n",
       "      <td>7.000000</td>\n",
       "    </tr>\n",
       "    <tr>\n",
       "      <th>max</th>\n",
       "      <td>52556.000000</td>\n",
       "      <td>1.000000</td>\n",
       "      <td>1.000000</td>\n",
       "      <td>1.000000</td>\n",
       "      <td>1.000000</td>\n",
       "      <td>1.000000</td>\n",
       "      <td>1.000000</td>\n",
       "      <td>3552.000000</td>\n",
       "      <td>68.500000</td>\n",
       "      <td>676.000000</td>\n",
       "      <td>626.000000</td>\n",
       "      <td>4113.000000</td>\n",
       "      <td>2036.000000</td>\n",
       "      <td>1093.000000</td>\n",
       "      <td>10.000000</td>\n",
       "      <td>10.000000</td>\n",
       "    </tr>\n",
       "  </tbody>\n",
       "</table>\n",
       "</div>"
      ],
      "text/plain": [
       "       train_number      third_ac     chair_car   first_class       sleeper  \\\n",
       "count  27320.000000  27320.000000  27320.000000  27320.000000  27320.000000   \n",
       "mean   14588.040300      0.817972      0.152672      0.026171      0.798719   \n",
       "std     3455.335282      0.385875      0.359678      0.159647      0.400965   \n",
       "min    10103.000000      0.000000      0.000000      0.000000      0.000000   \n",
       "25%    12610.000000      1.000000      0.000000      0.000000      1.000000   \n",
       "50%    13246.000000      1.000000      0.000000      0.000000      1.000000   \n",
       "75%    16336.000000      1.000000      0.000000      0.000000      1.000000   \n",
       "max    52556.000000      1.000000      1.000000      1.000000      1.000000   \n",
       "\n",
       "          second_ac      first_ac      distance      duration         month  \\\n",
       "count  27320.000000  27320.000000  27320.000000  27320.000000  27320.000000   \n",
       "mean       0.720168      0.180234   1246.997840     24.052784     48.866581   \n",
       "std        0.448925      0.384389    776.234669     14.343989     59.711469   \n",
       "min        0.000000      0.000000     31.000000      1.750000      0.000000   \n",
       "25%        0.000000      0.000000    605.000000     12.500000     12.000000   \n",
       "50%        1.000000      0.000000   1106.000000     22.250000     27.000000   \n",
       "75%        1.000000      0.000000   1804.000000     33.500000     60.000000   \n",
       "max        1.000000      1.000000   3552.000000     68.500000    676.000000   \n",
       "\n",
       "            month_3       month_6          year          week  \\\n",
       "count  27320.000000  27320.000000  27320.000000  27320.000000   \n",
       "mean      55.038946     55.407613     48.759114     44.117130   \n",
       "std       62.389282     67.343295     54.254110     67.681416   \n",
       "min        0.000000      0.000000      0.000000      0.000000   \n",
       "25%       15.000000     16.000000     16.000000      8.000000   \n",
       "50%       33.000000     33.000000     30.000000     22.000000   \n",
       "75%       70.000000     69.000000     61.000000     51.000000   \n",
       "max      626.000000   4113.000000   2036.000000   1093.000000   \n",
       "\n",
       "       train_delay_level  station_delay_level  \n",
       "count       27320.000000         27320.000000  \n",
       "mean            3.097108             4.506259  \n",
       "std             2.808891             2.896894  \n",
       "min             0.000000             0.000000  \n",
       "25%             0.000000             2.000000  \n",
       "50%             2.000000             6.000000  \n",
       "75%             4.000000             7.000000  \n",
       "max            10.000000            10.000000  "
      ]
     },
     "execution_count": 79,
     "metadata": {},
     "output_type": "execute_result"
    }
   ],
   "source": [
    "data.describe()"
   ]
  },
  {
   "cell_type": "code",
   "execution_count": 80,
   "id": "d8344110-8613-4975-b63b-7da19037ac33",
   "metadata": {},
   "outputs": [
    {
     "data": {
      "text/plain": [
       "Index(['train_number', 'station_code', 'third_ac', 'zone', 'chair_car',\n",
       "       'first_class', 'sleeper', 'second_ac', 'type', 'first_ac', 'distance',\n",
       "       'duration', 'month', 'month_3', 'month_6', 'year', 'week',\n",
       "       'train_delay_level', 'station_delay_level'],\n",
       "      dtype='object')"
      ]
     },
     "execution_count": 80,
     "metadata": {},
     "output_type": "execute_result"
    }
   ],
   "source": [
    "data.columns"
   ]
  },
  {
   "cell_type": "code",
   "execution_count": 81,
   "id": "602206fa-4346-4e22-85dc-91843aa3992f",
   "metadata": {},
   "outputs": [],
   "source": [
    "data.to_csv(\"analyis2.csv\", index=False)"
   ]
  },
  {
   "cell_type": "code",
   "execution_count": null,
   "id": "c6fba155-9c16-4573-9fbf-0b4299d23414",
   "metadata": {},
   "outputs": [],
   "source": []
  }
 ],
 "metadata": {
  "kernelspec": {
   "display_name": "Python 3 (ipykernel)",
   "language": "python",
   "name": "python3"
  },
  "language_info": {
   "codemirror_mode": {
    "name": "ipython",
    "version": 3
   },
   "file_extension": ".py",
   "mimetype": "text/x-python",
   "name": "python",
   "nbconvert_exporter": "python",
   "pygments_lexer": "ipython3",
   "version": "3.9.16"
  }
 },
 "nbformat": 4,
 "nbformat_minor": 5
}
