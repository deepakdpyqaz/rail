{
 "cells": [
  {
   "cell_type": "code",
   "execution_count": 1,
   "metadata": {},
   "outputs": [],
   "source": [
    "import numpy as np\n",
    "import pandas as pd"
   ]
  },
  {
   "cell_type": "code",
   "execution_count": 4,
   "metadata": {},
   "outputs": [],
   "source": [
    "merge = pd.read_csv(\"delay.csv\")"
   ]
  },
  {
   "cell_type": "code",
   "execution_count": 5,
   "metadata": {},
   "outputs": [
    {
     "data": {
      "text/html": [
       "<div>\n",
       "<style scoped>\n",
       "    .dataframe tbody tr th:only-of-type {\n",
       "        vertical-align: middle;\n",
       "    }\n",
       "\n",
       "    .dataframe tbody tr th {\n",
       "        vertical-align: top;\n",
       "    }\n",
       "\n",
       "    .dataframe thead th {\n",
       "        text-align: right;\n",
       "    }\n",
       "</style>\n",
       "<table border=\"1\" class=\"dataframe\">\n",
       "  <thead>\n",
       "    <tr style=\"text-align: right;\">\n",
       "      <th></th>\n",
       "      <th>station</th>\n",
       "      <th>week</th>\n",
       "      <th>month</th>\n",
       "      <th>month_3</th>\n",
       "      <th>month_6</th>\n",
       "      <th>year</th>\n",
       "      <th>train_number</th>\n",
       "    </tr>\n",
       "  </thead>\n",
       "  <tbody>\n",
       "    <tr>\n",
       "      <th>0</th>\n",
       "      <td>LOKMANYATILAK T (LTT)</td>\n",
       "      <td>2</td>\n",
       "      <td>2</td>\n",
       "      <td>2</td>\n",
       "      <td>2</td>\n",
       "      <td>2</td>\n",
       "      <td>1035</td>\n",
       "    </tr>\n",
       "    <tr>\n",
       "      <th>1</th>\n",
       "      <td>KALYAN JN (KYN)</td>\n",
       "      <td>27</td>\n",
       "      <td>27</td>\n",
       "      <td>27</td>\n",
       "      <td>27</td>\n",
       "      <td>27</td>\n",
       "      <td>1035</td>\n",
       "    </tr>\n",
       "    <tr>\n",
       "      <th>2</th>\n",
       "      <td>NASIK ROAD (NK)</td>\n",
       "      <td>22</td>\n",
       "      <td>22</td>\n",
       "      <td>22</td>\n",
       "      <td>22</td>\n",
       "      <td>22</td>\n",
       "      <td>1035</td>\n",
       "    </tr>\n",
       "    <tr>\n",
       "      <th>3</th>\n",
       "      <td>BHUSAVAL JN (BSL)</td>\n",
       "      <td>14</td>\n",
       "      <td>14</td>\n",
       "      <td>14</td>\n",
       "      <td>14</td>\n",
       "      <td>14</td>\n",
       "      <td>1035</td>\n",
       "    </tr>\n",
       "    <tr>\n",
       "      <th>4</th>\n",
       "      <td>KHANDWA (KNW)</td>\n",
       "      <td>34</td>\n",
       "      <td>34</td>\n",
       "      <td>34</td>\n",
       "      <td>34</td>\n",
       "      <td>34</td>\n",
       "      <td>1035</td>\n",
       "    </tr>\n",
       "  </tbody>\n",
       "</table>\n",
       "</div>"
      ],
      "text/plain": [
       "                 station  week  month  month_3  month_6  year  train_number\n",
       "0  LOKMANYATILAK T (LTT)     2      2        2        2     2          1035\n",
       "1        KALYAN JN (KYN)    27     27       27       27    27          1035\n",
       "2        NASIK ROAD (NK)    22     22       22       22    22          1035\n",
       "3      BHUSAVAL JN (BSL)    14     14       14       14    14          1035\n",
       "4          KHANDWA (KNW)    34     34       34       34    34          1035"
      ]
     },
     "execution_count": 5,
     "metadata": {},
     "output_type": "execute_result"
    }
   ],
   "source": [
    "merge.head()"
   ]
  },
  {
   "cell_type": "code",
   "execution_count": 6,
   "metadata": {},
   "outputs": [],
   "source": [
    "train = pd.read_csv(\"webapp/data.csv\")"
   ]
  },
  {
   "cell_type": "code",
   "execution_count": 7,
   "metadata": {},
   "outputs": [
    {
     "data": {
      "text/html": [
       "<div>\n",
       "<style scoped>\n",
       "    .dataframe tbody tr th:only-of-type {\n",
       "        vertical-align: middle;\n",
       "    }\n",
       "\n",
       "    .dataframe tbody tr th {\n",
       "        vertical-align: top;\n",
       "    }\n",
       "\n",
       "    .dataframe thead th {\n",
       "        text-align: right;\n",
       "    }\n",
       "</style>\n",
       "<table border=\"1\" class=\"dataframe\">\n",
       "  <thead>\n",
       "    <tr style=\"text-align: right;\">\n",
       "      <th></th>\n",
       "      <th>third_ac</th>\n",
       "      <th>arrival</th>\n",
       "      <th>from_station_code</th>\n",
       "      <th>name</th>\n",
       "      <th>zone</th>\n",
       "      <th>chair_car</th>\n",
       "      <th>first_class</th>\n",
       "      <th>sleeper</th>\n",
       "      <th>from_station_name</th>\n",
       "      <th>number</th>\n",
       "      <th>departure</th>\n",
       "      <th>return_train</th>\n",
       "      <th>to_station_code</th>\n",
       "      <th>second_ac</th>\n",
       "      <th>classes</th>\n",
       "      <th>to_station_name</th>\n",
       "      <th>type</th>\n",
       "      <th>first_ac</th>\n",
       "      <th>distance</th>\n",
       "      <th>duration</th>\n",
       "    </tr>\n",
       "  </thead>\n",
       "  <tbody>\n",
       "    <tr>\n",
       "      <th>0</th>\n",
       "      <td>0</td>\n",
       "      <td>12:15:00</td>\n",
       "      <td>JAT</td>\n",
       "      <td>Jammu Tawi Udhampur Special</td>\n",
       "      <td>NR</td>\n",
       "      <td>0</td>\n",
       "      <td>0</td>\n",
       "      <td>0</td>\n",
       "      <td>JAMMU TAWI</td>\n",
       "      <td>04601</td>\n",
       "      <td>10:40:00</td>\n",
       "      <td>04602</td>\n",
       "      <td>UHP</td>\n",
       "      <td>0</td>\n",
       "      <td>NaN</td>\n",
       "      <td>UDHAMPUR</td>\n",
       "      <td>DEMU</td>\n",
       "      <td>0</td>\n",
       "      <td>53.0</td>\n",
       "      <td>1.583333</td>\n",
       "    </tr>\n",
       "    <tr>\n",
       "      <th>1</th>\n",
       "      <td>0</td>\n",
       "      <td>08:35:00</td>\n",
       "      <td>UHP</td>\n",
       "      <td>UDHAMPUR JAMMUTAWI DMU</td>\n",
       "      <td>NR</td>\n",
       "      <td>0</td>\n",
       "      <td>0</td>\n",
       "      <td>0</td>\n",
       "      <td>UDHAMPUR</td>\n",
       "      <td>04602</td>\n",
       "      <td>06:45:00</td>\n",
       "      <td>04601</td>\n",
       "      <td>JAT</td>\n",
       "      <td>0</td>\n",
       "      <td>NaN</td>\n",
       "      <td>JAMMU TAWI</td>\n",
       "      <td>DEMU</td>\n",
       "      <td>0</td>\n",
       "      <td>53.0</td>\n",
       "      <td>1.833333</td>\n",
       "    </tr>\n",
       "    <tr>\n",
       "      <th>2</th>\n",
       "      <td>0</td>\n",
       "      <td>17:50:00</td>\n",
       "      <td>JAT</td>\n",
       "      <td>JAT UDAHMPUR DMU</td>\n",
       "      <td>NR</td>\n",
       "      <td>0</td>\n",
       "      <td>0</td>\n",
       "      <td>0</td>\n",
       "      <td>JAMMU TAWI</td>\n",
       "      <td>04603</td>\n",
       "      <td>16:15:00</td>\n",
       "      <td>04604</td>\n",
       "      <td>UHP</td>\n",
       "      <td>0</td>\n",
       "      <td>NaN</td>\n",
       "      <td>UDHAMPUR</td>\n",
       "      <td>DEMU</td>\n",
       "      <td>0</td>\n",
       "      <td>53.0</td>\n",
       "      <td>1.583333</td>\n",
       "    </tr>\n",
       "    <tr>\n",
       "      <th>3</th>\n",
       "      <td>0</td>\n",
       "      <td>19:50:00</td>\n",
       "      <td>UHP</td>\n",
       "      <td>UDHAMPUR JAMMUTAWI DMU</td>\n",
       "      <td>NR</td>\n",
       "      <td>0</td>\n",
       "      <td>0</td>\n",
       "      <td>0</td>\n",
       "      <td>UDHAMPUR</td>\n",
       "      <td>04604</td>\n",
       "      <td>18:20:00</td>\n",
       "      <td>04603</td>\n",
       "      <td>JAT</td>\n",
       "      <td>0</td>\n",
       "      <td>NaN</td>\n",
       "      <td>JAMMU TAWI</td>\n",
       "      <td>DEMU</td>\n",
       "      <td>0</td>\n",
       "      <td>53.0</td>\n",
       "      <td>1.500000</td>\n",
       "    </tr>\n",
       "    <tr>\n",
       "      <th>4</th>\n",
       "      <td>1</td>\n",
       "      <td>12:30:00</td>\n",
       "      <td>BDTS</td>\n",
       "      <td>Mumbai BandraT-Bikaner SF Special</td>\n",
       "      <td>NWR</td>\n",
       "      <td>0</td>\n",
       "      <td>0</td>\n",
       "      <td>1</td>\n",
       "      <td>MUMBAI BANDRA TERMINUS</td>\n",
       "      <td>04728</td>\n",
       "      <td>14:35:00</td>\n",
       "      <td>04727</td>\n",
       "      <td>BKN</td>\n",
       "      <td>1</td>\n",
       "      <td>NaN</td>\n",
       "      <td>BIKANER JN</td>\n",
       "      <td>SF</td>\n",
       "      <td>0</td>\n",
       "      <td>1212.0</td>\n",
       "      <td>21.916667</td>\n",
       "    </tr>\n",
       "  </tbody>\n",
       "</table>\n",
       "</div>"
      ],
      "text/plain": [
       "   third_ac   arrival from_station_code                               name  \\\n",
       "0         0  12:15:00               JAT        Jammu Tawi Udhampur Special   \n",
       "1         0  08:35:00               UHP             UDHAMPUR JAMMUTAWI DMU   \n",
       "2         0  17:50:00               JAT                   JAT UDAHMPUR DMU   \n",
       "3         0  19:50:00               UHP             UDHAMPUR JAMMUTAWI DMU   \n",
       "4         1  12:30:00              BDTS  Mumbai BandraT-Bikaner SF Special   \n",
       "\n",
       "  zone  chair_car  first_class  sleeper       from_station_name number  \\\n",
       "0   NR          0            0        0              JAMMU TAWI  04601   \n",
       "1   NR          0            0        0                UDHAMPUR  04602   \n",
       "2   NR          0            0        0              JAMMU TAWI  04603   \n",
       "3   NR          0            0        0                UDHAMPUR  04604   \n",
       "4  NWR          0            0        1  MUMBAI BANDRA TERMINUS  04728   \n",
       "\n",
       "  departure return_train to_station_code  second_ac  classes to_station_name  \\\n",
       "0  10:40:00        04602             UHP          0      NaN        UDHAMPUR   \n",
       "1  06:45:00        04601             JAT          0      NaN      JAMMU TAWI   \n",
       "2  16:15:00        04604             UHP          0      NaN        UDHAMPUR   \n",
       "3  18:20:00        04603             JAT          0      NaN      JAMMU TAWI   \n",
       "4  14:35:00        04727             BKN          1      NaN      BIKANER JN   \n",
       "\n",
       "   type  first_ac  distance   duration  \n",
       "0  DEMU         0      53.0   1.583333  \n",
       "1  DEMU         0      53.0   1.833333  \n",
       "2  DEMU         0      53.0   1.583333  \n",
       "3  DEMU         0      53.0   1.500000  \n",
       "4    SF         0    1212.0  21.916667  "
      ]
     },
     "execution_count": 7,
     "metadata": {},
     "output_type": "execute_result"
    }
   ],
   "source": [
    "train.head()"
   ]
  },
  {
   "cell_type": "code",
   "execution_count": 22,
   "metadata": {},
   "outputs": [],
   "source": [
    "mt = set(merge[\"station\"])"
   ]
  },
  {
   "cell_type": "code",
   "execution_count": 27,
   "metadata": {},
   "outputs": [],
   "source": [
    "import re"
   ]
  },
  {
   "cell_type": "code",
   "execution_count": 29,
   "metadata": {},
   "outputs": [],
   "source": [
    "exp = re.compile(\"\\((?P<code>[A-Za-z]*)\\)\")"
   ]
  },
  {
   "cell_type": "code",
   "execution_count": 30,
   "metadata": {},
   "outputs": [],
   "source": [
    "mt_new = set()\n",
    "for it in mt:\n",
    "    mt_new.add(exp.search(it).group(\"code\"))"
   ]
  },
  {
   "cell_type": "code",
   "execution_count": 33,
   "metadata": {},
   "outputs": [],
   "source": [
    "tt = set(train[\"from_station_code\"])"
   ]
  },
  {
   "cell_type": "code",
   "execution_count": 34,
   "metadata": {},
   "outputs": [],
   "source": [
    "pos = 0\n",
    "neg = 0"
   ]
  },
  {
   "cell_type": "code",
   "execution_count": 35,
   "metadata": {},
   "outputs": [],
   "source": [
    "for tr in tt:\n",
    "    try:\n",
    "        if tr in mt_new:\n",
    "            pos += 1\n",
    "        else:\n",
    "            neg += 1\n",
    "    except:\n",
    "        neg += 1"
   ]
  },
  {
   "cell_type": "code",
   "execution_count": null,
   "metadata": {},
   "outputs": [],
   "source": []
  },
  {
   "cell_type": "code",
   "execution_count": 36,
   "metadata": {},
   "outputs": [
    {
     "data": {
      "text/plain": [
       "(499, 165)"
      ]
     },
     "execution_count": 36,
     "metadata": {},
     "output_type": "execute_result"
    }
   ],
   "source": [
    "pos, neg"
   ]
  },
  {
   "cell_type": "code",
   "execution_count": 3,
   "metadata": {},
   "outputs": [],
   "source": [
    "import pandas as pd"
   ]
  },
  {
   "cell_type": "code",
   "execution_count": 4,
   "metadata": {},
   "outputs": [],
   "source": [
    "df = pd.read_csv(\"railway/data/geo.csv\")"
   ]
  },
  {
   "cell_type": "code",
   "execution_count": null,
   "metadata": {},
   "outputs": [],
   "source": [
    "# df[df[\"code\"]==\"DADN\"].iloc[0,[1,2]] = 22.5558,75.7707"
   ]
  },
  {
   "cell_type": "code",
   "execution_count": 5,
   "metadata": {},
   "outputs": [
    {
     "data": {
      "text/html": [
       "<div>\n",
       "<style scoped>\n",
       "    .dataframe tbody tr th:only-of-type {\n",
       "        vertical-align: middle;\n",
       "    }\n",
       "\n",
       "    .dataframe tbody tr th {\n",
       "        vertical-align: top;\n",
       "    }\n",
       "\n",
       "    .dataframe thead th {\n",
       "        text-align: right;\n",
       "    }\n",
       "</style>\n",
       "<table border=\"1\" class=\"dataframe\">\n",
       "  <thead>\n",
       "    <tr style=\"text-align: right;\">\n",
       "      <th></th>\n",
       "      <th>code</th>\n",
       "      <th>name</th>\n",
       "      <th>latitude</th>\n",
       "      <th>longitude</th>\n",
       "    </tr>\n",
       "  </thead>\n",
       "  <tbody>\n",
       "    <tr>\n",
       "      <th>23</th>\n",
       "      <td>VGLJ</td>\n",
       "      <td>Virangana Lakshmibai Jhansi</td>\n",
       "      <td>25.4444</td>\n",
       "      <td>78.5535</td>\n",
       "    </tr>\n",
       "  </tbody>\n",
       "</table>\n",
       "</div>"
      ],
      "text/plain": [
       "    code                         name  latitude  longitude\n",
       "23  VGLJ  Virangana Lakshmibai Jhansi   25.4444    78.5535"
      ]
     },
     "execution_count": 5,
     "metadata": {},
     "output_type": "execute_result"
    }
   ],
   "source": [
    "df[df[\"code\"] == \"VGLJ\"]"
   ]
  },
  {
   "cell_type": "code",
   "execution_count": 5,
   "metadata": {},
   "outputs": [],
   "source": [
    "df.iloc[23, [1, 2, 3]] = \"Virangana Lakshmibai Jhansi\", 25.4444, 78.5535"
   ]
  },
  {
   "cell_type": "code",
   "execution_count": 7,
   "metadata": {},
   "outputs": [],
   "source": [
    "df.to_csv(\"railway/data/geo.csv\", index=False)"
   ]
  },
  {
   "cell_type": "code",
   "execution_count": null,
   "metadata": {},
   "outputs": [],
   "source": []
  }
 ],
 "metadata": {
  "kernelspec": {
   "display_name": "Python 3 (ipykernel)",
   "language": "python",
   "name": "python3"
  },
  "language_info": {
   "codemirror_mode": {
    "name": "ipython",
    "version": 3
   },
   "file_extension": ".py",
   "mimetype": "text/x-python",
   "name": "python",
   "nbconvert_exporter": "python",
   "pygments_lexer": "ipython3",
   "version": "3.9.16"
  }
 },
 "nbformat": 4,
 "nbformat_minor": 4
}
